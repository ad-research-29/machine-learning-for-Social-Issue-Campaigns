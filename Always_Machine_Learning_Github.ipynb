{
  "nbformat": 4,
  "nbformat_minor": 0,
  "metadata": {
    "colab": {
      "name": "Always_Machine_Learning_Github.ipynb",
      "provenance": [],
      "collapsed_sections": []
    },
    "kernelspec": {
      "name": "python3",
      "display_name": "Python 3"
    },
    "language_info": {
      "name": "python"
    },
    "accelerator": "GPU"
  },
  "cells": [
    {
      "cell_type": "code",
      "metadata": {
        "colab": {
          "base_uri": "https://localhost:8080/"
        },
        "id": "8O6q_DGhFJo_",
        "outputId": "9c946171-8522-46b6-e586-92ffa8642c89"
      },
      "source": [
        "from textblob import TextBlob #TextBlob is built upon nltk\n",
        "import nltk\n",
        "import numpy as np\n",
        "nltk.download('punkt')\n",
        "nltk.download('brown')\n",
        "nltk.download('stopwords')\n",
        "from nltk.corpus import stopwords\n",
        "stop_words = stopwords.words('english')\n",
        "import unicodedata\n",
        "import re\n",
        "import spacy\n",
        "nlp = spacy.load(\"en_core_web_sm\", disable=['parser', 'ner'])\n",
        "\n",
        "stop_words.extend(['cannot','would'])\n",
        "print(stop_words)"
      ],
      "execution_count": null,
      "outputs": [
        {
          "output_type": "stream",
          "text": [
            "[nltk_data] Downloading package punkt to /root/nltk_data...\n",
            "[nltk_data]   Unzipping tokenizers/punkt.zip.\n",
            "[nltk_data] Downloading package brown to /root/nltk_data...\n",
            "[nltk_data]   Unzipping corpora/brown.zip.\n",
            "[nltk_data] Downloading package stopwords to /root/nltk_data...\n",
            "[nltk_data]   Unzipping corpora/stopwords.zip.\n",
            "['i', 'me', 'my', 'myself', 'we', 'our', 'ours', 'ourselves', 'you', \"you're\", \"you've\", \"you'll\", \"you'd\", 'your', 'yours', 'yourself', 'yourselves', 'he', 'him', 'his', 'himself', 'she', \"she's\", 'her', 'hers', 'herself', 'it', \"it's\", 'its', 'itself', 'they', 'them', 'their', 'theirs', 'themselves', 'what', 'which', 'who', 'whom', 'this', 'that', \"that'll\", 'these', 'those', 'am', 'is', 'are', 'was', 'were', 'be', 'been', 'being', 'have', 'has', 'had', 'having', 'do', 'does', 'did', 'doing', 'a', 'an', 'the', 'and', 'but', 'if', 'or', 'because', 'as', 'until', 'while', 'of', 'at', 'by', 'for', 'with', 'about', 'against', 'between', 'into', 'through', 'during', 'before', 'after', 'above', 'below', 'to', 'from', 'up', 'down', 'in', 'out', 'on', 'off', 'over', 'under', 'again', 'further', 'then', 'once', 'here', 'there', 'when', 'where', 'why', 'how', 'all', 'any', 'both', 'each', 'few', 'more', 'most', 'other', 'some', 'such', 'no', 'nor', 'not', 'only', 'own', 'same', 'so', 'than', 'too', 'very', 's', 't', 'can', 'will', 'just', 'don', \"don't\", 'should', \"should've\", 'now', 'd', 'll', 'm', 'o', 're', 've', 'y', 'ain', 'aren', \"aren't\", 'couldn', \"couldn't\", 'didn', \"didn't\", 'doesn', \"doesn't\", 'hadn', \"hadn't\", 'hasn', \"hasn't\", 'haven', \"haven't\", 'isn', \"isn't\", 'ma', 'mightn', \"mightn't\", 'mustn', \"mustn't\", 'needn', \"needn't\", 'shan', \"shan't\", 'shouldn', \"shouldn't\", 'wasn', \"wasn't\", 'weren', \"weren't\", 'won', \"won't\", 'wouldn', \"wouldn't\", 'cannot', 'would']\n"
          ],
          "name": "stdout"
        }
      ]
    },
    {
      "cell_type": "code",
      "metadata": {
        "id": "Vy3HlM-4P0Qa"
      },
      "source": [
        "#source: https://github.com/dipanjanS/text-analytics-with-python/tree/master/New-Second-Edition/Ch03%20-%20Processing%20and%20Understanding%20Text\n",
        "\n",
        "CONTRACTION_MAP = {\n",
        "\"ain't\": \"is not\",\n",
        "\"aren't\": \"are not\",\n",
        "\"can't\": \"cannot\",\n",
        "\"can't've\": \"cannot have\",\n",
        "\"'cause\": \"because\",\n",
        "\"could've\": \"could have\",\n",
        "\"couldn't\": \"could not\",\n",
        "\"couldn't've\": \"could not have\",\n",
        "\"didn't\": \"did not\",\n",
        "\"doesn't\": \"does not\",\n",
        "\"don't\": \"do not\",\n",
        "\"hadn't\": \"had not\",\n",
        "\"hadn't've\": \"had not have\",\n",
        "\"hasn't\": \"has not\",\n",
        "\"haven't\": \"have not\",\n",
        "\"he'd\": \"he would\",\n",
        "\"he'd've\": \"he would have\",\n",
        "\"he'll\": \"he will\",\n",
        "\"he'll've\": \"he he will have\",\n",
        "\"he's\": \"he is\",\n",
        "\"how'd\": \"how did\",\n",
        "\"how'd'y\": \"how do you\",\n",
        "\"how'll\": \"how will\",\n",
        "\"how's\": \"how is\",\n",
        "\"I'd\": \"I would\",\n",
        "\"I'd've\": \"I would have\",\n",
        "\"I'll\": \"I will\",\n",
        "\"I'll've\": \"I will have\",\n",
        "\"I'm\": \"I am\",\n",
        "\"I've\": \"I have\",\n",
        "\"i'd\": \"i would\",\n",
        "\"i'd've\": \"i would have\",\n",
        "\"i'll\": \"i will\",\n",
        "\"i'll've\": \"i will have\",\n",
        "\"i'm\": \"i am\",\n",
        "\"i've\": \"i have\",\n",
        "\"isn't\": \"is not\",\n",
        "\"it'd\": \"it would\",\n",
        "\"it'd've\": \"it would have\",\n",
        "\"it'll\": \"it will\",\n",
        "\"it'll've\": \"it will have\",\n",
        "\"it's\": \"it is\",\n",
        "\"let's\": \"let us\",\n",
        "\"ma'am\": \"madam\",\n",
        "\"mayn't\": \"may not\",\n",
        "\"might've\": \"might have\",\n",
        "\"mightn't\": \"might not\",\n",
        "\"mightn't've\": \"might not have\",\n",
        "\"must've\": \"must have\",\n",
        "\"mustn't\": \"must not\",\n",
        "\"mustn't've\": \"must not have\",\n",
        "\"needn't\": \"need not\",\n",
        "\"needn't've\": \"need not have\",\n",
        "\"o'clock\": \"of the clock\",\n",
        "\"oughtn't\": \"ought not\",\n",
        "\"oughtn't've\": \"ought not have\",\n",
        "\"shan't\": \"shall not\",\n",
        "\"sha'n't\": \"shall not\",\n",
        "\"shan't've\": \"shall not have\",\n",
        "\"she'd\": \"she would\",\n",
        "\"she'd've\": \"she would have\",\n",
        "\"she'll\": \"she will\",\n",
        "\"she'll've\": \"she will have\",\n",
        "\"she's\": \"she is\",\n",
        "\"should've\": \"should have\",\n",
        "\"shouldn't\": \"should not\",\n",
        "\"shouldn't've\": \"should not have\",\n",
        "\"so've\": \"so have\",\n",
        "\"so's\": \"so as\",\n",
        "\"that'd\": \"that would\",\n",
        "\"that'd've\": \"that would have\",\n",
        "\"that's\": \"that is\",\n",
        "\"there'd\": \"there would\",\n",
        "\"there'd've\": \"there would have\",\n",
        "\"there's\": \"there is\",\n",
        "\"they'd\": \"they would\",\n",
        "\"they'd've\": \"they would have\",\n",
        "\"they'll\": \"they will\",\n",
        "\"they'll've\": \"they will have\",\n",
        "\"they're\": \"they are\",\n",
        "\"they've\": \"they have\",\n",
        "\"to've\": \"to have\",\n",
        "\"wasn't\": \"was not\",\n",
        "\"we'd\": \"we would\",\n",
        "\"we'd've\": \"we would have\",\n",
        "\"we'll\": \"we will\",\n",
        "\"we'll've\": \"we will have\",\n",
        "\"we're\": \"we are\",\n",
        "\"we've\": \"we have\",\n",
        "\"weren't\": \"were not\",\n",
        "\"what'll\": \"what will\",\n",
        "\"what'll've\": \"what will have\",\n",
        "\"what're\": \"what are\",\n",
        "\"what's\": \"what is\",\n",
        "\"what've\": \"what have\",\n",
        "\"when's\": \"when is\",\n",
        "\"when've\": \"when have\",\n",
        "\"where'd\": \"where did\",\n",
        "\"where's\": \"where is\",\n",
        "\"where've\": \"where have\",\n",
        "\"who'll\": \"who will\",\n",
        "\"who'll've\": \"who will have\",\n",
        "\"who's\": \"who is\",\n",
        "\"who've\": \"who have\",\n",
        "\"why's\": \"why is\",\n",
        "\"why've\": \"why have\",\n",
        "\"will've\": \"will have\",\n",
        "\"won't\": \"will not\",\n",
        "\"won't've\": \"will not have\",\n",
        "\"would've\": \"would have\",\n",
        "\"wouldn't\": \"would not\",\n",
        "\"wouldn't've\": \"would not have\",\n",
        "\"y'all\": \"you all\",\n",
        "\"y'all'd\": \"you all would\",\n",
        "\"y'all'd've\": \"you all would have\",\n",
        "\"y'all're\": \"you all are\",\n",
        "\"y'all've\": \"you all have\",\n",
        "\"you'd\": \"you would\",\n",
        "\"you'd've\": \"you would have\",\n",
        "\"you'll\": \"you will\",\n",
        "\"you'll've\": \"you will have\",\n",
        "\"you're\": \"you are\",\n",
        "\"you've\": \"you have\"\n",
        "}"
      ],
      "execution_count": null,
      "outputs": []
    },
    {
      "cell_type": "code",
      "metadata": {
        "id": "lYKcKeE7QAzJ"
      },
      "source": [
        "def expand_contractions(text, contraction_mapping=CONTRACTION_MAP): #create a function to expand contractions for each text\n",
        "    \n",
        "    contractions_pattern = re.compile('({})'.format('|'.join(contraction_mapping.keys())), \n",
        "                                      flags=re.IGNORECASE|re.DOTALL)\n",
        "    def expand_match(contraction):\n",
        "        match = contraction.group(0)\n",
        "        first_char = match[0]\n",
        "        expanded_contraction = contraction_mapping.get(match)\\\n",
        "                                if contraction_mapping.get(match)\\\n",
        "                                else contraction_mapping.get(match.lower())                       \n",
        "        expanded_contraction = first_char+expanded_contraction[1:]\n",
        "        return expanded_contraction\n",
        "        \n",
        "    expanded_text = contractions_pattern.sub(expand_match, text)\n",
        "    expanded_text = re.sub(\"'\", \"\", expanded_text)\n",
        "    return expanded_text"
      ],
      "execution_count": null,
      "outputs": []
    },
    {
      "cell_type": "code",
      "metadata": {
        "id": "mkNeFSh8FtDc"
      },
      "source": [
        "#try different sample comments from the corpus using this function and keep adjusting the normalizer function\n",
        "\n",
        "def normalizer(text):\n",
        "  text = re.sub(r'(dont|DONT|Dont)',\"don't\",text)\n",
        "  text = unicodedata.normalize('NFKD', text).encode('ascii', 'ignore').decode('utf8', 'ignore') #convert accented characters to normal English characters\n",
        "  text = expand_contractions(text) #expand contractions in the text\n",
        "  #text = re.sub('-','',text) #to remove hypens in the text to ensure a compound word is considered as a whole word\n",
        "  text = re.sub(r'(@\\w+)','',text) #remove @user from the text\n",
        "  text = nlp(\"\".join(text)) \n",
        "  text = [word.lemma_ if word.pos_ in ['NOUN', 'ADJ', 'VERB', 'ADV'] else str(word) for word in text] #lemmatize each word based on its POS in the text and create a clean word list\n",
        "  text = ' '.join(text)\n",
        "  text = ' '.join([word.lower() for word in TextBlob(text).words if word.lower() not in stop_words]) #remove stopwords from the text and lowercase all the words\n",
        "  text = re.sub(r'(\\w*\\d+:*\\w*)','',text) #remove digits, such as 2:15, 80s,80's from text\n",
        "  text = [word for word in text.split() if (word not in [' ','  ','   ','    '])&(len(word)>1)] #remove extra space and a single character from text\n",
        "  text = ' '.join(text)\n",
        "  return text"
      ],
      "execution_count": null,
      "outputs": []
    },
    {
      "cell_type": "code",
      "metadata": {
        "colab": {
          "base_uri": "https://localhost:8080/",
          "height": 526
        },
        "id": "zZRuJ-HASrYq",
        "outputId": "52caf2ce-8138-47e3-da92-cb3cce97b662"
      },
      "source": [
        "#connect to the Excel file in Google Drive (\"always_unique_English_comments.xlsx\")\n",
        "from google.colab import drive\n",
        "drive.mount('/content/drive')\n",
        "! ls /content/drive/MyDrive/always_unique_English_comments.xlsx\n",
        "\n",
        "import pandas as pd\n",
        "\n",
        "df = pd.read_excel('/content/drive/MyDrive/always_unique_English_comments.xlsx')\n",
        "\n",
        "#df['text_clean'] = df['text'].apply(normalizer)\n",
        "\n",
        "#df.to_excel('/content/drive/MyDrive/always_unique_English_comments.xlsx', index=False)\n",
        "\n",
        "df.head(5)"
      ],
      "execution_count": null,
      "outputs": [
        {
          "output_type": "stream",
          "text": [
            "Mounted at /content/drive\n",
            "/content/drive/MyDrive/always_unique_English_comments.xlsx\n"
          ],
          "name": "stdout"
        },
        {
          "output_type": "execute_result",
          "data": {
            "text/html": [
              "<div>\n",
              "<style scoped>\n",
              "    .dataframe tbody tr th:only-of-type {\n",
              "        vertical-align: middle;\n",
              "    }\n",
              "\n",
              "    .dataframe tbody tr th {\n",
              "        vertical-align: top;\n",
              "    }\n",
              "\n",
              "    .dataframe thead th {\n",
              "        text-align: right;\n",
              "    }\n",
              "</style>\n",
              "<table border=\"1\" class=\"dataframe\">\n",
              "  <thead>\n",
              "    <tr style=\"text-align: right;\">\n",
              "      <th></th>\n",
              "      <th>Unnamed: 0</th>\n",
              "      <th>comment_id</th>\n",
              "      <th>comment_id.1</th>\n",
              "      <th>comment_id.1.1</th>\n",
              "      <th>comment_id.1.1.1</th>\n",
              "      <th>text</th>\n",
              "      <th>time</th>\n",
              "      <th>author</th>\n",
              "      <th>like</th>\n",
              "      <th>language</th>\n",
              "      <th>time_order</th>\n",
              "      <th>mention</th>\n",
              "      <th>comment_or_reply</th>\n",
              "      <th>reply</th>\n",
              "      <th>brand presence</th>\n",
              "      <th>ad sentiment</th>\n",
              "      <th>text_clean</th>\n",
              "    </tr>\n",
              "  </thead>\n",
              "  <tbody>\n",
              "    <tr>\n",
              "      <th>0</th>\n",
              "      <td>2</td>\n",
              "      <td>False</td>\n",
              "      <td>False</td>\n",
              "      <td>False</td>\n",
              "      <td>UgjKJvPp3seTt3gCoAEC</td>\n",
              "      <td>Great use of the power of brand content. You g...</td>\n",
              "      <td>5 years ago</td>\n",
              "      <td>Mary-Noelle Dana</td>\n",
              "      <td>3</td>\n",
              "      <td>True</td>\n",
              "      <td>3</td>\n",
              "      <td>No</td>\n",
              "      <td>0</td>\n",
              "      <td>0</td>\n",
              "      <td>NaN</td>\n",
              "      <td>NaN</td>\n",
              "      <td>great use power brand content guy girl behind ...</td>\n",
              "    </tr>\n",
              "    <tr>\n",
              "      <th>1</th>\n",
              "      <td>3</td>\n",
              "      <td>False</td>\n",
              "      <td>False</td>\n",
              "      <td>False</td>\n",
              "      <td>Uggt7Cvi4lu9CngCoAEC</td>\n",
              "      <td>:) Made us think,</td>\n",
              "      <td>5 years ago</td>\n",
              "      <td>Jessie Liu</td>\n",
              "      <td>5</td>\n",
              "      <td>True</td>\n",
              "      <td>4</td>\n",
              "      <td>No</td>\n",
              "      <td>0</td>\n",
              "      <td>0</td>\n",
              "      <td>0.0</td>\n",
              "      <td>2.0</td>\n",
              "      <td>make us think</td>\n",
              "    </tr>\n",
              "    <tr>\n",
              "      <th>2</th>\n",
              "      <td>4</td>\n",
              "      <td>False</td>\n",
              "      <td>False</td>\n",
              "      <td>False</td>\n",
              "      <td>UgjcmlECUIp3jHgCoAEC</td>\n",
              "      <td>Great video! Great campaign! =)</td>\n",
              "      <td>5 years ago</td>\n",
              "      <td>AlexP</td>\n",
              "      <td>3</td>\n",
              "      <td>True</td>\n",
              "      <td>5</td>\n",
              "      <td>No</td>\n",
              "      <td>0</td>\n",
              "      <td>0</td>\n",
              "      <td>NaN</td>\n",
              "      <td>NaN</td>\n",
              "      <td>great video great campaign</td>\n",
              "    </tr>\n",
              "    <tr>\n",
              "      <th>3</th>\n",
              "      <td>5</td>\n",
              "      <td>False</td>\n",
              "      <td>False</td>\n",
              "      <td>False</td>\n",
              "      <td>UgjJjkSMfbD-5HgCoAEC</td>\n",
              "      <td>Because  #likeagirl  is a great thing, not som...</td>\n",
              "      <td>5 years ago</td>\n",
              "      <td>Clayton Reeves</td>\n",
              "      <td>17</td>\n",
              "      <td>True</td>\n",
              "      <td>6</td>\n",
              "      <td>No</td>\n",
              "      <td>0</td>\n",
              "      <td>0</td>\n",
              "      <td>NaN</td>\n",
              "      <td>NaN</td>\n",
              "      <td>likeagirl great thing something ashamed</td>\n",
              "    </tr>\n",
              "    <tr>\n",
              "      <th>4</th>\n",
              "      <td>6</td>\n",
              "      <td>False</td>\n",
              "      <td>False</td>\n",
              "      <td>False</td>\n",
              "      <td>UgjbPhQQb_kv3HgCoAEC</td>\n",
              "      <td>most thoughtful advertisement ive come across ...</td>\n",
              "      <td>5 years ago</td>\n",
              "      <td>mia montillano</td>\n",
              "      <td>28</td>\n",
              "      <td>True</td>\n",
              "      <td>7</td>\n",
              "      <td>No</td>\n",
              "      <td>0</td>\n",
              "      <td>0</td>\n",
              "      <td>0.0</td>\n",
              "      <td>2.0</td>\n",
              "      <td>thoughtful advertisement come across youtube</td>\n",
              "    </tr>\n",
              "  </tbody>\n",
              "</table>\n",
              "</div>"
            ],
            "text/plain": [
              "   Unnamed: 0  ...                                         text_clean\n",
              "0           2  ...  great use power brand content guy girl behind ...\n",
              "1           3  ...                                      make us think\n",
              "2           4  ...                         great video great campaign\n",
              "3           5  ...            likeagirl great thing something ashamed\n",
              "4           6  ...       thoughtful advertisement come across youtube\n",
              "\n",
              "[5 rows x 17 columns]"
            ]
          },
          "metadata": {},
          "execution_count": 2
        }
      ]
    },
    {
      "cell_type": "code",
      "metadata": {
        "colab": {
          "base_uri": "https://localhost:8080/"
        },
        "id": "HowduqlUTtlO",
        "outputId": "cbe453df-cc46-40ba-82aa-acf77d1ef5de"
      },
      "source": [
        "#Sanitation check, check the vocabulary size of the corpus and create a vocabulary list of words that apear at least 2 times in the corpus\n",
        "\n",
        "from collections import Counter\n",
        "\n",
        "def vocabulary(corpus):\n",
        "  vocabulary_list = []\n",
        "  for text in corpus:\n",
        "    vocabulary_list.extend(str(text).split())\n",
        "  c = Counter(vocabulary_list)\n",
        "  rare_word_list = [key for key, value in c.items() if value==1] #a list of words that only appear 1 time in the corpus\n",
        "  final_vocabulary_list = [key for key, value in c.items()]\n",
        "  return final_vocabulary_list, len(final_vocabulary_list), len(set(vocabulary_list)), len(rare_word_list)\n",
        "\n",
        "vocabulary(df['text_clean'])[1:4]"
      ],
      "execution_count": null,
      "outputs": [
        {
          "output_type": "execute_result",
          "data": {
            "text/plain": [
              "(15169, 15169, 7575)"
            ]
          },
          "metadata": {},
          "execution_count": 3
        }
      ]
    },
    {
      "cell_type": "code",
      "metadata": {
        "colab": {
          "base_uri": "https://localhost:8080/"
        },
        "id": "J69gru5yHhXA",
        "outputId": "60a29819-00d2-4a27-afa6-5b3b8b5f478f"
      },
      "source": [
        "#check the vocabulary size of the labeled data and the common words\n",
        "\n",
        "df_labeled = df[(df['text_clean'].notnull())&(df['ad sentiment'].notnull())] #remove comments that have no text after preprocessing\n",
        "print(df_labeled.shape)\n",
        "print(vocabulary(df_labeled['text_clean'])[1:4])\n",
        "\n",
        "df_labeled  = df_labeled.drop_duplicates(subset='text_clean', keep=\"first\") #remove duplicate comments\n",
        "print(df_labeled.shape)\n",
        "print(vocabulary(df_labeled['text_clean'])[1:4])"
      ],
      "execution_count": null,
      "outputs": [
        {
          "output_type": "stream",
          "text": [
            "(7445, 17)\n",
            "(9165, 9165, 4579)\n",
            "(7217, 17)\n",
            "(9165, 9165, 4580)\n"
          ],
          "name": "stdout"
        }
      ]
    },
    {
      "cell_type": "markdown",
      "metadata": {
        "id": "HUDx84sGP9GN"
      },
      "source": [
        "\n",
        "# Create training and testing dataset from the labeled data\n",
        "\n",
        "\n"
      ]
    },
    {
      "cell_type": "code",
      "metadata": {
        "colab": {
          "base_uri": "https://localhost:8080/"
        },
        "id": "c11lRBqPM22z",
        "outputId": "d06436a0-04d7-4558-e3f5-d3b2578f5a63"
      },
      "source": [
        "#check the number of comments for each category\n",
        "\n",
        "negative_ad = df_labeled[df_labeled['ad sentiment']==0]\n",
        "neutral_ad = df_labeled[df_labeled['ad sentiment']==1]\n",
        "positive_ad = df_labeled[df_labeled['ad sentiment']==2]\n",
        "irrelevant_ad = df_labeled[df_labeled['ad sentiment']==3]\n",
        "\n",
        "print(negative_ad.shape, neutral_ad.shape,positive_ad.shape,irrelevant_ad.shape)"
      ],
      "execution_count": null,
      "outputs": [
        {
          "output_type": "stream",
          "text": [
            "(3687, 17) (812, 17) (2575, 17) (143, 17)\n"
          ],
          "name": "stdout"
        }
      ]
    },
    {
      "cell_type": "code",
      "metadata": {
        "colab": {
          "base_uri": "https://localhost:8080/"
        },
        "id": "CWCX4sKB2SC4",
        "outputId": "b701a19a-9f6e-4864-cb6a-16e8606f8fde"
      },
      "source": [
        "#combine neural and irreelvant comments\n",
        "\n",
        "df_labeled['ad_sentiment_new'] = df_labeled['ad sentiment']\n",
        "df_labeled['ad_sentiment_new'].replace({3: 1}, inplace=True)\n",
        "\n",
        "#check the number of comments for each category\n",
        "\n",
        "negative_ad = df_labeled[df_labeled['ad_sentiment_new']==0]\n",
        "neutral_ad = df_labeled[df_labeled['ad_sentiment_new']==1]\n",
        "positive_ad = df_labeled[df_labeled['ad_sentiment_new']==2]\n",
        "\n",
        "print(negative_ad.shape, neutral_ad.shape,positive_ad.shape)"
      ],
      "execution_count": null,
      "outputs": [
        {
          "output_type": "stream",
          "text": [
            "(3687, 18) (955, 18) (2575, 18)\n"
          ],
          "name": "stdout"
        }
      ]
    },
    {
      "cell_type": "code",
      "metadata": {
        "colab": {
          "base_uri": "https://localhost:8080/"
        },
        "id": "ExGT0Yikvvyr",
        "outputId": "98e8c072-3c5c-4eba-c738-f7cb59478da6"
      },
      "source": [
        "from sklearn.model_selection import train_test_split\n",
        "\n",
        "train_corpus, test_corpus, train_label, test_label = train_test_split(df_labeled['text_clean'], df_labeled['ad_sentiment_new'], test_size = 0.2, random_state=42)\n",
        "\n",
        "print('vacabulary size for the labeled data:', vocabulary(df_labeled['text_clean'])[1])\n",
        "print('vacabulary size for the training data:', vocabulary(train_corpus)[1])\n",
        "train_corpus.shape, test_corpus.shape, train_label.shape, test_label.shape"
      ],
      "execution_count": null,
      "outputs": [
        {
          "output_type": "stream",
          "text": [
            "vacabulary size for the labeled data: 9165\n",
            "vacabulary size for the training data: 8173\n"
          ],
          "name": "stdout"
        },
        {
          "output_type": "execute_result",
          "data": {
            "text/plain": [
              "((5773,), (1444,), (5773,), (1444,))"
            ]
          },
          "metadata": {},
          "execution_count": 16
        }
      ]
    },
    {
      "cell_type": "markdown",
      "metadata": {
        "id": "p_ieRH9iiuRF"
      },
      "source": [
        "# SMOTE technique to deal with imbalanced training data"
      ]
    },
    {
      "cell_type": "code",
      "metadata": {
        "id": "h1SKq5xdizWo"
      },
      "source": [
        "from imblearn.over_sampling import SMOTE\n",
        "smote = SMOTE(random_state=42, sampling_strategy='not majority')\n",
        "tfidf_train_features, train_label = smote.fit_sample(tfidf_train_features, train_label)"
      ],
      "execution_count": null,
      "outputs": []
    },
    {
      "cell_type": "markdown",
      "metadata": {
        "id": "po_DCtWIMPtb"
      },
      "source": [
        "# Train the machine using machine learning algorithms"
      ]
    },
    {
      "cell_type": "code",
      "metadata": {
        "colab": {
          "base_uri": "https://localhost:8080/"
        },
        "id": "cujTBF62i7jW",
        "outputId": "fb2e9a7e-b5e9-4f2a-9b4e-75a81be343e8"
      },
      "source": [
        "#Naive Bayes: select the best parameters (the combination with the highest test accuracy)\n",
        "\n",
        "from sklearn.feature_extraction.text import TfidfVectorizer\n",
        "from sklearn.naive_bayes import MultinomialNB\n",
        "from sklearn.model_selection import cross_val_score\n",
        "\n",
        "ngram_list = [(1,1),(1,2)]\n",
        "alpha_list = [0,0.3,0.6,1]\n",
        "\n",
        "for ngram_range in ngram_list:\n",
        "    train_corpus, test_corpus, train_label, test_label = train_test_split(df_labeled['text_clean'], df_labeled['ad_sentiment_new'], test_size = 0.2, random_state=42)\n",
        "    tfidf = TfidfVectorizer(min_df=1, ngram_range=ngram_range) \n",
        "    tfidf_train_features = tfidf.fit_transform(train_corpus.values.astype('U'))\n",
        "    tfidf_train_features, train_label = smote.fit_sample(tfidf_train_features, train_label)\n",
        "    tfidf_test_features = tfidf.transform(test_corpus.values.astype('U'))\n",
        "    for alpha in alpha_list:\n",
        "      nb = MultinomialNB(alpha=alpha)\n",
        "      nb.fit(tfidf_train_features, train_label)\n",
        "      nb_tfidf_cv_scores = cross_val_score(nb, tfidf_train_features, train_label, cv=5) #5-fold\n",
        "      nb_tfidf_cv_mean_score = np.mean(nb_tfidf_cv_scores)\n",
        "      print('ngram:',ngram_range)\n",
        "      print('alpha:',alpha)\n",
        "      print('Mean Training CV accuracy (5-fold):', nb_tfidf_cv_mean_score)\n",
        "      print('Test accuracy:',accuracy_score(test_label, nb.predict(tfidf_test_features)))\n",
        "    "
      ],
      "execution_count": null,
      "outputs": [
        {
          "output_type": "stream",
          "text": [
            "/usr/local/lib/python3.7/dist-packages/sklearn/utils/deprecation.py:87: FutureWarning: Function safe_indexing is deprecated; safe_indexing is deprecated in version 0.22 and will be removed in version 0.24.\n",
            "  warnings.warn(msg, category=FutureWarning)\n",
            "/usr/local/lib/python3.7/dist-packages/sklearn/naive_bayes.py:507: UserWarning: alpha too small will result in numeric errors, setting alpha = 1.0e-10\n",
            "  'setting alpha = %.1e' % _ALPHA_MIN)\n",
            "/usr/local/lib/python3.7/dist-packages/sklearn/naive_bayes.py:507: UserWarning: alpha too small will result in numeric errors, setting alpha = 1.0e-10\n",
            "  'setting alpha = %.1e' % _ALPHA_MIN)\n",
            "/usr/local/lib/python3.7/dist-packages/sklearn/naive_bayes.py:507: UserWarning: alpha too small will result in numeric errors, setting alpha = 1.0e-10\n",
            "  'setting alpha = %.1e' % _ALPHA_MIN)\n",
            "/usr/local/lib/python3.7/dist-packages/sklearn/naive_bayes.py:507: UserWarning: alpha too small will result in numeric errors, setting alpha = 1.0e-10\n",
            "  'setting alpha = %.1e' % _ALPHA_MIN)\n",
            "/usr/local/lib/python3.7/dist-packages/sklearn/naive_bayes.py:507: UserWarning: alpha too small will result in numeric errors, setting alpha = 1.0e-10\n",
            "  'setting alpha = %.1e' % _ALPHA_MIN)\n",
            "/usr/local/lib/python3.7/dist-packages/sklearn/naive_bayes.py:507: UserWarning: alpha too small will result in numeric errors, setting alpha = 1.0e-10\n",
            "  'setting alpha = %.1e' % _ALPHA_MIN)\n"
          ],
          "name": "stderr"
        },
        {
          "output_type": "stream",
          "text": [
            "ngram: (1, 1)\n",
            "alpha: 0\n",
            "Mean Training CV accuracy (5-fold): 0.8066659787954193\n",
            "Test accuracy: 0.6232686980609419\n",
            "ngram: (1, 1)\n",
            "alpha: 0.3\n",
            "Mean Training CV accuracy (5-fold): 0.7802186164545978\n",
            "Test accuracy: 0.6710526315789473\n",
            "ngram: (1, 1)\n",
            "alpha: 0.6\n",
            "Mean Training CV accuracy (5-fold): 0.7693022263607032\n",
            "Test accuracy: 0.6821329639889196\n",
            "ngram: (1, 1)\n",
            "alpha: 1\n",
            "Mean Training CV accuracy (5-fold): 0.7575984979930407\n",
            "Test accuracy: 0.6883656509695291\n"
          ],
          "name": "stdout"
        },
        {
          "output_type": "stream",
          "text": [
            "/usr/local/lib/python3.7/dist-packages/sklearn/utils/deprecation.py:87: FutureWarning: Function safe_indexing is deprecated; safe_indexing is deprecated in version 0.22 and will be removed in version 0.24.\n",
            "  warnings.warn(msg, category=FutureWarning)\n",
            "/usr/local/lib/python3.7/dist-packages/sklearn/naive_bayes.py:507: UserWarning: alpha too small will result in numeric errors, setting alpha = 1.0e-10\n",
            "  'setting alpha = %.1e' % _ALPHA_MIN)\n",
            "/usr/local/lib/python3.7/dist-packages/sklearn/naive_bayes.py:507: UserWarning: alpha too small will result in numeric errors, setting alpha = 1.0e-10\n",
            "  'setting alpha = %.1e' % _ALPHA_MIN)\n",
            "/usr/local/lib/python3.7/dist-packages/sklearn/naive_bayes.py:507: UserWarning: alpha too small will result in numeric errors, setting alpha = 1.0e-10\n",
            "  'setting alpha = %.1e' % _ALPHA_MIN)\n",
            "/usr/local/lib/python3.7/dist-packages/sklearn/naive_bayes.py:507: UserWarning: alpha too small will result in numeric errors, setting alpha = 1.0e-10\n",
            "  'setting alpha = %.1e' % _ALPHA_MIN)\n",
            "/usr/local/lib/python3.7/dist-packages/sklearn/naive_bayes.py:507: UserWarning: alpha too small will result in numeric errors, setting alpha = 1.0e-10\n",
            "  'setting alpha = %.1e' % _ALPHA_MIN)\n",
            "/usr/local/lib/python3.7/dist-packages/sklearn/naive_bayes.py:507: UserWarning: alpha too small will result in numeric errors, setting alpha = 1.0e-10\n",
            "  'setting alpha = %.1e' % _ALPHA_MIN)\n"
          ],
          "name": "stderr"
        },
        {
          "output_type": "stream",
          "text": [
            "ngram: (1, 2)\n",
            "alpha: 0\n",
            "Mean Training CV accuracy (5-fold): 0.8587682378194567\n",
            "Test accuracy: 0.6412742382271468\n",
            "ngram: (1, 2)\n",
            "alpha: 0.3\n",
            "Mean Training CV accuracy (5-fold): 0.8579812160508636\n",
            "Test accuracy: 0.6869806094182825\n",
            "ngram: (1, 2)\n",
            "alpha: 0.6\n",
            "Mean Training CV accuracy (5-fold): 0.8579815325560387\n",
            "Test accuracy: 0.6869806094182825\n",
            "ngram: (1, 2)\n",
            "alpha: 1\n",
            "Mean Training CV accuracy (5-fold): 0.8494289297124297\n",
            "Test accuracy: 0.6862880886426593\n"
          ],
          "name": "stdout"
        }
      ]
    },
    {
      "cell_type": "code",
      "metadata": {
        "colab": {
          "base_uri": "https://localhost:8080/"
        },
        "id": "Hfq7Guf5qZfa",
        "outputId": "e4f360da-0b04-4ab5-f90a-5ace60eab06d"
      },
      "source": [
        "#Naive Bayes with the best parameters\n",
        "\n",
        "train_corpus, test_corpus, train_label, test_label = train_test_split(df_labeled['text_clean'], df_labeled['ad_sentiment_new'], test_size = 0.2, random_state=42)\n",
        "tfidf = TfidfVectorizer(min_df=1, ngram_range=(1,1)) \n",
        "tfidf_train_features = tfidf.fit_transform(train_corpus.values.astype('U'))\n",
        "tfidf_train_features, train_label = smote.fit_sample(tfidf_train_features, train_label)\n",
        "tfidf_test_features = tfidf.transform(test_corpus.values.astype('U'))\n",
        "nb = MultinomialNB(alpha=1)\n",
        "nb.fit(tfidf_train_features, train_label)\n",
        "nb_tfidf_cv_scores = cross_val_score(nb, tfidf_train_features, train_label, cv=5) #5-fold\n",
        "nb_tfidf_cv_mean_score = np.mean(nb_tfidf_cv_scores)\n",
        "print('Training CV accuracy (5-fold):', nb_tfidf_cv_scores)\n",
        "print('Mean Training CV accuracy (5-fold):', nb_tfidf_cv_mean_score)\n",
        "print('Test accuracy:',accuracy_score(test_label, nb.predict(tfidf_test_features)))\n",
        "print('Balanced Test accuracy:',balanced_accuracy_score(test_label, nb.predict(tfidf_test_features)))\n",
        "print('Report:',classification_report(test_label, nb.predict(tfidf_test_features)))\n",
        "print('MICRO precision_recall_fscore_support:', precision_recall_fscore_support(test_label, nb.predict(tfidf_test_features), average='micro'))"
      ],
      "execution_count": null,
      "outputs": [
        {
          "output_type": "stream",
          "text": [
            "/usr/local/lib/python3.7/dist-packages/sklearn/utils/deprecation.py:87: FutureWarning: Function safe_indexing is deprecated; safe_indexing is deprecated in version 0.22 and will be removed in version 0.24.\n",
            "  warnings.warn(msg, category=FutureWarning)\n"
          ],
          "name": "stderr"
        },
        {
          "output_type": "stream",
          "text": [
            "Training CV accuracy (5-fold): [0.73734533 0.72537985 0.74732696 0.78221722 0.79572313]\n",
            "Mean Training CV accuracy (5-fold): 0.7575984979930407\n",
            "Test accuracy: 0.6883656509695291\n",
            "Balanced Test accuracy: 0.6060257578195698\n",
            "Report:               precision    recall  f1-score   support\n",
            "\n",
            "         0.0       0.78      0.73      0.75       725\n",
            "         1.0       0.46      0.30      0.36       208\n",
            "         2.0       0.64      0.78      0.71       511\n",
            "\n",
            "    accuracy                           0.69      1444\n",
            "   macro avg       0.63      0.61      0.61      1444\n",
            "weighted avg       0.68      0.69      0.68      1444\n",
            "\n",
            "MICRO precision_recall_fscore_support: (0.6883656509695291, 0.6883656509695291, 0.6883656509695291, None)\n"
          ],
          "name": "stdout"
        }
      ]
    },
    {
      "cell_type": "code",
      "metadata": {
        "colab": {
          "base_uri": "https://localhost:8080/"
        },
        "id": "A90lBe0wq3Ci",
        "outputId": "2e15284a-6bcb-4141-b69d-d80eeafae680"
      },
      "source": [
        "#Support Vector Machine: select the best parameters\n",
        "\n",
        "from sklearn.linear_model import SGDClassifier\n",
        "\n",
        "ngram_list = [(1,1),(1,2)]\n",
        "alpha_list = [0.00001,0.0001,0.001,0.01]\n",
        "\n",
        "for ngram_range in ngram_list:\n",
        "    train_corpus, test_corpus, train_label, test_label = train_test_split(df_labeled['text_clean'], df_labeled['ad_sentiment_new'], test_size = 0.2, random_state=42)\n",
        "    tfidf = TfidfVectorizer(min_df=1, ngram_range=ngram_range) \n",
        "    tfidf_train_features = tfidf.fit_transform(train_corpus.values.astype('U'))\n",
        "    tfidf_train_features, train_label = smote.fit_sample(tfidf_train_features, train_label)\n",
        "    tfidf_test_features = tfidf.transform(test_corpus.values.astype('U'))\n",
        "    for alpha in alpha_list:\n",
        "      svm = SGDClassifier(loss='hinge', penalty='l2',random_state=42,max_iter=500, alpha=alpha)\n",
        "      svm.fit(tfidf_train_features, train_label)\n",
        "      svm_tfidf_cv_scores = cross_val_score(svm, tfidf_train_features, train_label, cv=5) #5-fold\n",
        "      svm_tfidf_cv_mean_score = np.mean(svm_tfidf_cv_scores)\n",
        "      print('ngram:',ngram_range)\n",
        "      print('alpha:',alpha)\n",
        "      print('Mean Training CV accuracy (5-fold):', svm_tfidf_cv_mean_score)\n",
        "      print('Test accuracy:',accuracy_score(test_label, svm.predict(tfidf_test_features)))"
      ],
      "execution_count": null,
      "outputs": [
        {
          "output_type": "stream",
          "text": [
            "/usr/local/lib/python3.7/dist-packages/sklearn/utils/deprecation.py:87: FutureWarning: Function safe_indexing is deprecated; safe_indexing is deprecated in version 0.22 and will be removed in version 0.24.\n",
            "  warnings.warn(msg, category=FutureWarning)\n"
          ],
          "name": "stderr"
        },
        {
          "output_type": "stream",
          "text": [
            "ngram: (1, 1)\n",
            "alpha: 1e-05\n",
            "Mean Training CV accuracy (5-fold): 0.8147678782695775\n",
            "Test accuracy: 0.6454293628808865\n",
            "ngram: (1, 1)\n",
            "alpha: 0.0001\n",
            "Mean Training CV accuracy (5-fold): 0.7992377289361058\n",
            "Test accuracy: 0.6765927977839336\n",
            "ngram: (1, 1)\n",
            "alpha: 0.001\n",
            "Mean Training CV accuracy (5-fold): 0.7334026901673869\n",
            "Test accuracy: 0.6655124653739612\n",
            "ngram: (1, 1)\n",
            "alpha: 0.01\n",
            "Mean Training CV accuracy (5-fold): 0.6877116232727521\n",
            "Test accuracy: 0.6281163434903048\n"
          ],
          "name": "stdout"
        },
        {
          "output_type": "stream",
          "text": [
            "/usr/local/lib/python3.7/dist-packages/sklearn/utils/deprecation.py:87: FutureWarning: Function safe_indexing is deprecated; safe_indexing is deprecated in version 0.22 and will be removed in version 0.24.\n",
            "  warnings.warn(msg, category=FutureWarning)\n"
          ],
          "name": "stderr"
        },
        {
          "output_type": "stream",
          "text": [
            "ngram: (1, 2)\n",
            "alpha: 1e-05\n",
            "Mean Training CV accuracy (5-fold): 0.8910660717213388\n",
            "Test accuracy: 0.6890581717451524\n",
            "ngram: (1, 2)\n",
            "alpha: 0.0001\n",
            "Mean Training CV accuracy (5-fold): 0.8863407760580294\n",
            "Test accuracy: 0.695983379501385\n",
            "ngram: (1, 2)\n",
            "alpha: 0.001\n",
            "Mean Training CV accuracy (5-fold): 0.8102664783671878\n",
            "Test accuracy: 0.675207756232687\n",
            "ngram: (1, 2)\n",
            "alpha: 0.01\n",
            "Mean Training CV accuracy (5-fold): 0.7920353371697981\n",
            "Test accuracy: 0.6627423822714681\n"
          ],
          "name": "stdout"
        }
      ]
    },
    {
      "cell_type": "code",
      "metadata": {
        "colab": {
          "base_uri": "https://localhost:8080/"
        },
        "id": "Oy3eLpEhRza0",
        "outputId": "59af3904-9639-41fe-8468-2cbfc290837c"
      },
      "source": [
        "#Support Vector Machine with the best parameters\n",
        "\n",
        "train_corpus, test_corpus, train_label, test_label = train_test_split(df_labeled['text_clean'], df_labeled['ad_sentiment_new'], test_size = 0.2, random_state=42)\n",
        "tfidf = TfidfVectorizer(min_df=1, ngram_range=(1,2)) \n",
        "tfidf_train_features = tfidf.fit_transform(train_corpus.values.astype('U'))\n",
        "tfidf_train_features, train_label = smote.fit_sample(tfidf_train_features, train_label)\n",
        "tfidf_test_features = tfidf.transform(test_corpus.values.astype('U'))\n",
        "svm = SGDClassifier(loss='hinge', penalty='l2',random_state=42,max_iter=500,alpha=0.0001)\n",
        "svm.fit(tfidf_train_features, train_label)\n",
        "svm_tfidf_cv_scores = cross_val_score(svm, tfidf_train_features, train_label, cv=5) #5-fold\n",
        "svm_tfidf_cv_mean_score = np.mean(svm_tfidf_cv_scores)\n",
        "print('Training CV accuracy (5-fold):', svm_tfidf_cv_scores)\n",
        "print('Mean Training CV accuracy (5-fold):', svm_tfidf_cv_mean_score)\n",
        "print('Test accuracy:',accuracy_score(test_label, svm.predict(tfidf_test_features)))\n",
        "print('Balanced Test accuracy:',balanced_accuracy_score(test_label, svm.predict(tfidf_test_features)))\n",
        "print('Report:',classification_report(test_label, svm.predict(tfidf_test_features)))\n",
        "print('MICRO precision_recall_fscore_support:', precision_recall_fscore_support(test_label, svm.predict(tfidf_test_features), average='micro'))"
      ],
      "execution_count": null,
      "outputs": [
        {
          "output_type": "stream",
          "text": [
            "/usr/local/lib/python3.7/dist-packages/sklearn/utils/deprecation.py:87: FutureWarning: Function safe_indexing is deprecated; safe_indexing is deprecated in version 0.22 and will be removed in version 0.24.\n",
            "  warnings.warn(msg, category=FutureWarning)\n"
          ],
          "name": "stderr"
        },
        {
          "output_type": "stream",
          "text": [
            "Training CV accuracy (5-fold): [0.86220472 0.8598762  0.87056837 0.91052335 0.92853123]\n",
            "Mean Training CV accuracy (5-fold): 0.8863407760580294\n",
            "Test accuracy: 0.695983379501385\n",
            "Balanced Test accuracy: 0.59887262713668\n",
            "Report:               precision    recall  f1-score   support\n",
            "\n",
            "         0.0       0.75      0.77      0.76       725\n",
            "         1.0       0.48      0.26      0.34       208\n",
            "         2.0       0.67      0.76      0.71       511\n",
            "\n",
            "    accuracy                           0.70      1444\n",
            "   macro avg       0.63      0.60      0.60      1444\n",
            "weighted avg       0.68      0.70      0.68      1444\n",
            "\n",
            "MICRO precision_recall_fscore_support: (0.695983379501385, 0.695983379501385, 0.695983379501385, None)\n"
          ],
          "name": "stdout"
        }
      ]
    },
    {
      "cell_type": "code",
      "metadata": {
        "colab": {
          "base_uri": "https://localhost:8080/"
        },
        "id": "CDmCIEC2tkQf",
        "outputId": "4fd7df67-a646-49ec-faff-94be453cd0ae"
      },
      "source": [
        "#Logistic Regression: select the best parameters\n",
        "\n",
        "from sklearn.linear_model import LogisticRegression\n",
        "\n",
        "ngram_list = [(1,1),(1,2)]\n",
        "C_list = [1,5,10,15]\n",
        "\n",
        "for ngram_range in ngram_list:\n",
        "    train_corpus, test_corpus, train_label, test_label = train_test_split(df_labeled['text_clean'], df_labeled['ad_sentiment_new'], test_size = 0.2, random_state=42)\n",
        "    tfidf = TfidfVectorizer(min_df=1, ngram_range=ngram_range) \n",
        "    tfidf_train_features = tfidf.fit_transform(train_corpus.values.astype('U'))\n",
        "    tfidf_train_features, train_label = smote.fit_sample(tfidf_train_features, train_label)\n",
        "    tfidf_test_features = tfidf.transform(test_corpus.values.astype('U'))\n",
        "    for C in C_list:\n",
        "      lr = LogisticRegression(penalty='l2',max_iter=1000,random_state=42,C=C)\n",
        "      lr.fit(tfidf_train_features, train_label)\n",
        "      lr_tfidf_cv_scores = cross_val_score(lr, tfidf_train_features, train_label, cv=5) #5-fold\n",
        "      lr_tfidf_cv_mean_score = np.mean(lr_tfidf_cv_scores)\n",
        "      print('ngram:',ngram_range)\n",
        "      print('C:',C)\n",
        "      print('Mean Training CV accuracy (5-fold):', lr_tfidf_cv_mean_score)\n",
        "      print('Test accuracy:',accuracy_score(test_label, lr.predict(tfidf_test_features)))\n"
      ],
      "execution_count": null,
      "outputs": [
        {
          "output_type": "stream",
          "text": [
            "/usr/local/lib/python3.7/dist-packages/sklearn/utils/deprecation.py:87: FutureWarning: Function safe_indexing is deprecated; safe_indexing is deprecated in version 0.22 and will be removed in version 0.24.\n",
            "  warnings.warn(msg, category=FutureWarning)\n"
          ],
          "name": "stderr"
        },
        {
          "output_type": "stream",
          "text": [
            "ngram: (1, 1)\n",
            "C: 1\n",
            "Mean Training CV accuracy (5-fold): 0.7724537316909669\n",
            "Test accuracy: 0.6717451523545707\n",
            "ngram: (1, 1)\n",
            "C: 5\n",
            "Mean Training CV accuracy (5-fold): 0.811167315396774\n",
            "Test accuracy: 0.6703601108033241\n",
            "ngram: (1, 1)\n",
            "C: 10\n",
            "Mean Training CV accuracy (5-fold): 0.8167942077020902\n",
            "Test accuracy: 0.6668975069252078\n",
            "ngram: (1, 1)\n",
            "C: 15\n",
            "Mean Training CV accuracy (5-fold): 0.8203951503811039\n",
            "Test accuracy: 0.6655124653739612\n"
          ],
          "name": "stdout"
        },
        {
          "output_type": "stream",
          "text": [
            "/usr/local/lib/python3.7/dist-packages/sklearn/utils/deprecation.py:87: FutureWarning: Function safe_indexing is deprecated; safe_indexing is deprecated in version 0.22 and will be removed in version 0.24.\n",
            "  warnings.warn(msg, category=FutureWarning)\n"
          ],
          "name": "stderr"
        },
        {
          "output_type": "stream",
          "text": [
            "ngram: (1, 2)\n",
            "C: 1\n",
            "Mean Training CV accuracy (5-fold): 0.8559562792411217\n",
            "Test accuracy: 0.6918282548476454\n",
            "ngram: (1, 2)\n",
            "C: 5\n",
            "Mean Training CV accuracy (5-fold): 0.8810507718611706\n",
            "Test accuracy: 0.6994459833795014\n",
            "ngram: (1, 2)\n",
            "C: 10\n",
            "Mean Training CV accuracy (5-fold): 0.8840891582418264\n",
            "Test accuracy: 0.7001385041551247\n",
            "ngram: (1, 2)\n",
            "C: 15\n",
            "Mean Training CV accuracy (5-fold): 0.8849894888631324\n",
            "Test accuracy: 0.6973684210526315\n"
          ],
          "name": "stdout"
        }
      ]
    },
    {
      "cell_type": "code",
      "metadata": {
        "colab": {
          "base_uri": "https://localhost:8080/"
        },
        "id": "-9ecrsfMSVhA",
        "outputId": "f258baee-6ab9-4956-9d86-584cf9d5e7e5"
      },
      "source": [
        "#Logistic Regression with the best parameters\n",
        "\n",
        "train_corpus, test_corpus, train_label, test_label = train_test_split(df_labeled['text_clean'], df_labeled['ad_sentiment_new'], test_size = 0.2, random_state=42)\n",
        "tfidf = TfidfVectorizer(min_df=1, ngram_range=(1,2)) \n",
        "tfidf_train_features = tfidf.fit_transform(train_corpus.values.astype('U'))\n",
        "tfidf_train_features, train_label = smote.fit_sample(tfidf_train_features, train_label)\n",
        "tfidf_test_features = tfidf.transform(test_corpus.values.astype('U'))\n",
        "\n",
        "lr = LogisticRegression(penalty='l2',max_iter=1000,random_state=42,C=10)\n",
        "lr.fit(tfidf_train_features, train_label)\n",
        "lr_tfidf_cv_scores = cross_val_score(lr, tfidf_train_features, train_label, cv=5) #5-fold\n",
        "lr_tfidf_cv_mean_score = np.mean(lr_tfidf_cv_scores)\n",
        "print('Training CV accuracy (5-fold):', lr_tfidf_cv_scores)\n",
        "print('Mean Training CV accuracy (5-fold):', lr_tfidf_cv_mean_score)\n",
        "print('Test accuracy:',accuracy_score(test_label, lr.predict(tfidf_test_features)))\n",
        "print('Balanced Test accuracy:',balanced_accuracy_score(test_label, lr.predict(tfidf_test_features)))\n",
        "print('Report:',classification_report(test_label, lr.predict(tfidf_test_features)))\n",
        "print('MICRO precision_recall_fscore_support:', precision_recall_fscore_support(test_label, lr.predict(tfidf_test_features), average='micro'))"
      ],
      "execution_count": null,
      "outputs": [
        {
          "output_type": "stream",
          "text": [
            "/usr/local/lib/python3.7/dist-packages/sklearn/utils/deprecation.py:87: FutureWarning: Function safe_indexing is deprecated; safe_indexing is deprecated in version 0.22 and will be removed in version 0.24.\n",
            "  warnings.warn(msg, category=FutureWarning)\n"
          ],
          "name": "stderr"
        },
        {
          "output_type": "stream",
          "text": [
            "Training CV accuracy (5-fold): [0.86782902 0.85481148 0.86494091 0.90714688 0.9257175 ]\n",
            "Mean Training CV accuracy (5-fold): 0.8840891582418264\n",
            "Test accuracy: 0.7001385041551247\n",
            "Balanced Test accuracy: 0.6001158422745574\n",
            "Report:               precision    recall  f1-score   support\n",
            "\n",
            "         0.0       0.76      0.78      0.77       725\n",
            "         1.0       0.49      0.25      0.33       208\n",
            "         2.0       0.67      0.77      0.72       511\n",
            "\n",
            "    accuracy                           0.70      1444\n",
            "   macro avg       0.64      0.60      0.60      1444\n",
            "weighted avg       0.69      0.70      0.69      1444\n",
            "\n",
            "MICRO precision_recall_fscore_support: (0.7001385041551247, 0.7001385041551247, 0.7001385041551247, None)\n"
          ],
          "name": "stdout"
        }
      ]
    },
    {
      "cell_type": "code",
      "metadata": {
        "colab": {
          "base_uri": "https://localhost:8080/"
        },
        "id": "g8ctoNOLwJEG",
        "outputId": "b3f3d2ff-64ca-483c-c770-af57d9d712f9"
      },
      "source": [
        "#Random Forest: select the best parameters\n",
        "\n",
        "from sklearn.ensemble import RandomForestClassifier\n",
        "\n",
        "ngram_list = [(1,1),(1,2)]\n",
        "n_estimators_list = [100,200,300,400]\n",
        "\n",
        "for ngram_range in ngram_list:\n",
        "    train_corpus, test_corpus, train_label, test_label = train_test_split(df_labeled['text_clean'], df_labeled['ad_sentiment_new'], test_size = 0.2, random_state=42)\n",
        "    tfidf = TfidfVectorizer(min_df=1, ngram_range=ngram_range) \n",
        "    tfidf_train_features = tfidf.fit_transform(train_corpus.values.astype('U'))\n",
        "    tfidf_train_features, train_label = smote.fit_sample(tfidf_train_features, train_label)\n",
        "    tfidf_test_features = tfidf.transform(test_corpus.values.astype('U'))\n",
        "    for n_estimators in n_estimators_list:\n",
        "      rf = RandomForestClassifier(n_estimators=n_estimators,random_state=42)\n",
        "      rf.fit(tfidf_train_features, train_label)\n",
        "      rf_tfidf_cv_scores = cross_val_score(rf, tfidf_train_features, train_label, cv=5) #5-fold\n",
        "      rf_tfidf_cv_mean_score = np.mean(rf_tfidf_cv_scores)\n",
        "      print('ngram:',ngram_range)\n",
        "      print('n_estimators:',n_estimators)\n",
        "      print('Mean Training CV accuracy (5-fold):', rf_tfidf_cv_mean_score)\n",
        "      print('Test accuracy:',accuracy_score(test_label, rf.predict(tfidf_test_features)))\n"
      ],
      "execution_count": null,
      "outputs": [
        {
          "output_type": "stream",
          "text": [
            "/usr/local/lib/python3.7/dist-packages/sklearn/utils/deprecation.py:87: FutureWarning: Function safe_indexing is deprecated; safe_indexing is deprecated in version 0.22 and will be removed in version 0.24.\n",
            "  warnings.warn(msg, category=FutureWarning)\n"
          ],
          "name": "stderr"
        },
        {
          "output_type": "stream",
          "text": [
            "ngram: (1, 1)\n",
            "n_estimators: 100\n",
            "Mean Training CV accuracy (5-fold): 0.8332294985355306\n",
            "Test accuracy: 0.6952908587257618\n",
            "ngram: (1, 1)\n",
            "n_estimators: 200\n",
            "Mean Training CV accuracy (5-fold): 0.8399807438251422\n",
            "Test accuracy: 0.6876731301939059\n",
            "ngram: (1, 1)\n",
            "n_estimators: 300\n",
            "Mean Training CV accuracy (5-fold): 0.8432446717936285\n",
            "Test accuracy: 0.6911357340720221\n",
            "ngram: (1, 1)\n",
            "n_estimators: 400\n",
            "Mean Training CV accuracy (5-fold): 0.844032516475677\n",
            "Test accuracy: 0.6973684210526315\n"
          ],
          "name": "stdout"
        },
        {
          "output_type": "stream",
          "text": [
            "/usr/local/lib/python3.7/dist-packages/sklearn/utils/deprecation.py:87: FutureWarning: Function safe_indexing is deprecated; safe_indexing is deprecated in version 0.22 and will be removed in version 0.24.\n",
            "  warnings.warn(msg, category=FutureWarning)\n"
          ],
          "name": "stderr"
        },
        {
          "output_type": "stream",
          "text": [
            "ngram: (1, 2)\n",
            "n_estimators: 100\n",
            "Mean Training CV accuracy (5-fold): 0.8480848588355269\n",
            "Test accuracy: 0.6835180055401662\n",
            "ngram: (1, 2)\n",
            "n_estimators: 200\n",
            "Mean Training CV accuracy (5-fold): 0.853936723019358\n",
            "Test accuracy: 0.6835180055401662\n",
            "ngram: (1, 2)\n",
            "n_estimators: 300\n",
            "Mean Training CV accuracy (5-fold): 0.8526984914730342\n",
            "Test accuracy: 0.695983379501385\n",
            "ngram: (1, 2)\n",
            "n_estimators: 400\n",
            "Mean Training CV accuracy (5-fold): 0.8543865401743183\n",
            "Test accuracy: 0.6925207756232687\n"
          ],
          "name": "stdout"
        }
      ]
    },
    {
      "cell_type": "code",
      "metadata": {
        "colab": {
          "base_uri": "https://localhost:8080/"
        },
        "id": "PxdC-PXw7Owq",
        "outputId": "b0217335-d6d2-4fe6-8518-809b335445c8"
      },
      "source": [
        "#Random Forest with the best parameters\n",
        "\n",
        "train_corpus, test_corpus, train_label, test_label = train_test_split(df_labeled['text_clean'], df_labeled['ad_sentiment_new'], test_size = 0.2, random_state=42)\n",
        "tfidf = TfidfVectorizer(min_df=1, ngram_range=(1,1)) \n",
        "tfidf_train_features = tfidf.fit_transform(train_corpus.values.astype('U'))\n",
        "tfidf_train_features, train_label = smote.fit_sample(tfidf_train_features, train_label)\n",
        "tfidf_test_features = tfidf.transform(test_corpus.values.astype('U'))\n",
        "\n",
        "rf = RandomForestClassifier(n_estimators=400,random_state=42)\n",
        "rf.fit(tfidf_train_features, train_label)\n",
        "rf_tfidf_cv_scores = cross_val_score(rf, tfidf_train_features, train_label, cv=5) #5-fold\n",
        "rf_tfidf_cv_mean_score = np.mean(rf_tfidf_cv_scores)\n",
        "print('Training CV accuracy (5-fold):', rf_tfidf_cv_scores)\n",
        "print('Mean Training CV accuracy (5-fold):', rf_tfidf_cv_mean_score)\n",
        "print('Test accuracy:',accuracy_score(test_label, rf.predict(tfidf_test_features)))\n",
        "print('Balanced Test accuracy:',balanced_accuracy_score(test_label, rf.predict(tfidf_test_features)))\n",
        "print('Report:',classification_report(test_label, rf.predict(tfidf_test_features)))\n",
        "print('MICRO precision_recall_fscore_support:', precision_recall_fscore_support(test_label, rf.predict(tfidf_test_features), average='micro'))"
      ],
      "execution_count": null,
      "outputs": [
        {
          "output_type": "stream",
          "text": [
            "/usr/local/lib/python3.7/dist-packages/sklearn/utils/deprecation.py:87: FutureWarning: Function safe_indexing is deprecated; safe_indexing is deprecated in version 0.22 and will be removed in version 0.24.\n",
            "  warnings.warn(msg, category=FutureWarning)\n"
          ],
          "name": "stderr"
        },
        {
          "output_type": "stream",
          "text": [
            "Training CV accuracy (5-fold): [0.77109111 0.81541925 0.83736635 0.87507034 0.92121553]\n",
            "Mean Training CV accuracy (5-fold): 0.844032516475677\n",
            "Test accuracy: 0.6973684210526315\n",
            "Balanced Test accuracy: 0.6042635061364395\n",
            "Report:               precision    recall  f1-score   support\n",
            "\n",
            "         0.0       0.71      0.83      0.76       725\n",
            "         1.0       0.55      0.32      0.40       208\n",
            "         2.0       0.72      0.67      0.69       511\n",
            "\n",
            "    accuracy                           0.70      1444\n",
            "   macro avg       0.66      0.60      0.62      1444\n",
            "weighted avg       0.69      0.70      0.69      1444\n",
            "\n",
            "MICRO precision_recall_fscore_support: (0.6973684210526315, 0.6973684210526315, 0.6973684210526315, None)\n"
          ],
          "name": "stdout"
        }
      ]
    },
    {
      "cell_type": "markdown",
      "metadata": {
        "id": "LyUz8muV5b3x"
      },
      "source": [
        "# Deploy GCP AutoML model"
      ]
    },
    {
      "cell_type": "code",
      "metadata": {
        "colab": {
          "base_uri": "https://localhost:8080/",
          "height": 575
        },
        "id": "D43EGNzg7caa",
        "outputId": "6c92e19b-9075-4891-8a77-8155c2d5ec11"
      },
      "source": [
        "!pip install google-cloud-automl"
      ],
      "execution_count": null,
      "outputs": [
        {
          "output_type": "stream",
          "text": [
            "Collecting google-cloud-automl\n",
            "  Downloading google_cloud_automl-2.4.1-py2.py3-none-any.whl (276 kB)\n",
            "\u001b[?25l\r\u001b[K     |█▏                              | 10 kB 38.0 MB/s eta 0:00:01\r\u001b[K     |██▍                             | 20 kB 41.3 MB/s eta 0:00:01\r\u001b[K     |███▋                            | 30 kB 41.2 MB/s eta 0:00:01\r\u001b[K     |████▊                           | 40 kB 26.3 MB/s eta 0:00:01\r\u001b[K     |██████                          | 51 kB 16.7 MB/s eta 0:00:01\r\u001b[K     |███████▏                        | 61 kB 14.2 MB/s eta 0:00:01\r\u001b[K     |████████▎                       | 71 kB 13.5 MB/s eta 0:00:01\r\u001b[K     |█████████▌                      | 81 kB 14.9 MB/s eta 0:00:01\r\u001b[K     |██████████▊                     | 92 kB 13.6 MB/s eta 0:00:01\r\u001b[K     |███████████▉                    | 102 kB 12.6 MB/s eta 0:00:01\r\u001b[K     |█████████████                   | 112 kB 12.6 MB/s eta 0:00:01\r\u001b[K     |██████████████▎                 | 122 kB 12.6 MB/s eta 0:00:01\r\u001b[K     |███████████████▍                | 133 kB 12.6 MB/s eta 0:00:01\r\u001b[K     |████████████████▋               | 143 kB 12.6 MB/s eta 0:00:01\r\u001b[K     |█████████████████▉              | 153 kB 12.6 MB/s eta 0:00:01\r\u001b[K     |███████████████████             | 163 kB 12.6 MB/s eta 0:00:01\r\u001b[K     |████████████████████▏           | 174 kB 12.6 MB/s eta 0:00:01\r\u001b[K     |█████████████████████▍          | 184 kB 12.6 MB/s eta 0:00:01\r\u001b[K     |██████████████████████▌         | 194 kB 12.6 MB/s eta 0:00:01\r\u001b[K     |███████████████████████▊        | 204 kB 12.6 MB/s eta 0:00:01\r\u001b[K     |█████████████████████████       | 215 kB 12.6 MB/s eta 0:00:01\r\u001b[K     |██████████████████████████      | 225 kB 12.6 MB/s eta 0:00:01\r\u001b[K     |███████████████████████████▎    | 235 kB 12.6 MB/s eta 0:00:01\r\u001b[K     |████████████████████████████▌   | 245 kB 12.6 MB/s eta 0:00:01\r\u001b[K     |█████████████████████████████▋  | 256 kB 12.6 MB/s eta 0:00:01\r\u001b[K     |██████████████████████████████▉ | 266 kB 12.6 MB/s eta 0:00:01\r\u001b[K     |████████████████████████████████| 276 kB 12.6 MB/s \n",
            "\u001b[?25hRequirement already satisfied: packaging>=14.3 in /usr/local/lib/python3.7/dist-packages (from google-cloud-automl) (21.0)\n",
            "Requirement already satisfied: google-api-core[grpc]<3.0.0dev,>=1.26.0 in /usr/local/lib/python3.7/dist-packages (from google-cloud-automl) (1.26.3)\n",
            "Collecting proto-plus>=1.10.0\n",
            "  Downloading proto_plus-1.19.0-py3-none-any.whl (42 kB)\n",
            "\u001b[?25l\r\u001b[K     |███████▋                        | 10 kB 41.2 MB/s eta 0:00:01\r\u001b[K     |███████████████▎                | 20 kB 47.7 MB/s eta 0:00:01\r\u001b[K     |██████████████████████▉         | 30 kB 55.2 MB/s eta 0:00:01\r\u001b[K     |██████████████████████████████▌ | 40 kB 60.2 MB/s eta 0:00:01\r\u001b[K     |████████████████████████████████| 42 kB 2.0 MB/s \n",
            "\u001b[?25hRequirement already satisfied: protobuf>=3.12.0 in /usr/local/lib/python3.7/dist-packages (from google-api-core[grpc]<3.0.0dev,>=1.26.0->google-cloud-automl) (3.17.3)\n",
            "Requirement already satisfied: requests<3.0.0dev,>=2.18.0 in /usr/local/lib/python3.7/dist-packages (from google-api-core[grpc]<3.0.0dev,>=1.26.0->google-cloud-automl) (2.23.0)\n",
            "Requirement already satisfied: six>=1.13.0 in /usr/local/lib/python3.7/dist-packages (from google-api-core[grpc]<3.0.0dev,>=1.26.0->google-cloud-automl) (1.15.0)\n",
            "Requirement already satisfied: google-auth<2.0dev,>=1.21.1 in /usr/local/lib/python3.7/dist-packages (from google-api-core[grpc]<3.0.0dev,>=1.26.0->google-cloud-automl) (1.32.1)\n",
            "Requirement already satisfied: setuptools>=40.3.0 in /usr/local/lib/python3.7/dist-packages (from google-api-core[grpc]<3.0.0dev,>=1.26.0->google-cloud-automl) (57.2.0)\n",
            "Requirement already satisfied: pytz in /usr/local/lib/python3.7/dist-packages (from google-api-core[grpc]<3.0.0dev,>=1.26.0->google-cloud-automl) (2018.9)\n",
            "Requirement already satisfied: googleapis-common-protos<2.0dev,>=1.6.0 in /usr/local/lib/python3.7/dist-packages (from google-api-core[grpc]<3.0.0dev,>=1.26.0->google-cloud-automl) (1.53.0)\n",
            "Requirement already satisfied: grpcio<2.0dev,>=1.29.0 in /usr/local/lib/python3.7/dist-packages (from google-api-core[grpc]<3.0.0dev,>=1.26.0->google-cloud-automl) (1.34.1)\n",
            "Requirement already satisfied: rsa<5,>=3.1.4 in /usr/local/lib/python3.7/dist-packages (from google-auth<2.0dev,>=1.21.1->google-api-core[grpc]<3.0.0dev,>=1.26.0->google-cloud-automl) (4.7.2)\n",
            "Requirement already satisfied: pyasn1-modules>=0.2.1 in /usr/local/lib/python3.7/dist-packages (from google-auth<2.0dev,>=1.21.1->google-api-core[grpc]<3.0.0dev,>=1.26.0->google-cloud-automl) (0.2.8)\n",
            "Requirement already satisfied: cachetools<5.0,>=2.0.0 in /usr/local/lib/python3.7/dist-packages (from google-auth<2.0dev,>=1.21.1->google-api-core[grpc]<3.0.0dev,>=1.26.0->google-cloud-automl) (4.2.2)\n",
            "Requirement already satisfied: pyparsing>=2.0.2 in /usr/local/lib/python3.7/dist-packages (from packaging>=14.3->google-cloud-automl) (2.4.7)\n",
            "Requirement already satisfied: pyasn1<0.5.0,>=0.4.6 in /usr/local/lib/python3.7/dist-packages (from pyasn1-modules>=0.2.1->google-auth<2.0dev,>=1.21.1->google-api-core[grpc]<3.0.0dev,>=1.26.0->google-cloud-automl) (0.4.8)\n",
            "Requirement already satisfied: certifi>=2017.4.17 in /usr/local/lib/python3.7/dist-packages (from requests<3.0.0dev,>=2.18.0->google-api-core[grpc]<3.0.0dev,>=1.26.0->google-cloud-automl) (2021.5.30)\n",
            "Requirement already satisfied: chardet<4,>=3.0.2 in /usr/local/lib/python3.7/dist-packages (from requests<3.0.0dev,>=2.18.0->google-api-core[grpc]<3.0.0dev,>=1.26.0->google-cloud-automl) (3.0.4)\n",
            "Requirement already satisfied: idna<3,>=2.5 in /usr/local/lib/python3.7/dist-packages (from requests<3.0.0dev,>=2.18.0->google-api-core[grpc]<3.0.0dev,>=1.26.0->google-cloud-automl) (2.10)\n",
            "Requirement already satisfied: urllib3!=1.25.0,!=1.25.1,<1.26,>=1.21.1 in /usr/local/lib/python3.7/dist-packages (from requests<3.0.0dev,>=2.18.0->google-api-core[grpc]<3.0.0dev,>=1.26.0->google-cloud-automl) (1.24.3)\n",
            "Installing collected packages: proto-plus, google-cloud-automl\n",
            "Successfully installed google-cloud-automl-2.4.1 proto-plus-1.19.0\n"
          ],
          "name": "stdout"
        },
        {
          "output_type": "display_data",
          "data": {
            "application/vnd.colab-display-data+json": {
              "pip_warning": {
                "packages": [
                  "google"
                ]
              }
            }
          },
          "metadata": {
            "tags": []
          }
        }
      ]
    },
    {
      "cell_type": "code",
      "metadata": {
        "colab": {
          "base_uri": "https://localhost:8080/"
        },
        "id": "pn8976wf8WTI",
        "outputId": "6b0dde29-99f6-44f9-c4f7-51b912668aff"
      },
      "source": [
        "#connect to the stored service key file on Google Drive \"always-original-comments-d6506240be8d.json\"\n",
        "#Regarding how to create a service key on GCP, refer to here: https://cloud.google.com/iam/docs/service-accounts\n",
        "#replace the key file with your own\n",
        "from google.colab import drive\n",
        "drive.mount('/content/drive')\n",
        "! ls /content/drive/MyDrive/always-original-comments-d6506240be8d.json #always-original-comments-d6506240be8d.json is my GCP service account key file\n",
        "\n",
        "import os\n",
        "os.environ[\"GOOGLE_APPLICATION_CREDENTIALS\"]=\"/content/drive/MyDrive/always-original-comments-d6506240be8d.json\"\n",
        "\n",
        "print('Done')"
      ],
      "execution_count": null,
      "outputs": [
        {
          "output_type": "stream",
          "text": [
            "Drive already mounted at /content/drive; to attempt to forcibly remount, call drive.mount(\"/content/drive\", force_remount=True).\n",
            "/content/drive/MyDrive/always-original-comments-d6506240be8d.json\n",
            "Done\n"
          ],
          "name": "stdout"
        }
      ]
    },
    {
      "cell_type": "code",
      "metadata": {
        "colab": {
          "base_uri": "https://localhost:8080/",
          "height": 911
        },
        "id": "1Rt1Ep_-8wr0",
        "outputId": "ab50d2bd-b30c-4182-be98-1b7690e86b5e"
      },
      "source": [
        "!pip install --upgrade google-cloud-storage"
      ],
      "execution_count": null,
      "outputs": [
        {
          "output_type": "stream",
          "text": [
            "Requirement already satisfied: google-cloud-storage in /usr/local/lib/python3.7/dist-packages (1.18.1)\n",
            "Collecting google-cloud-storage\n",
            "  Downloading google_cloud_storage-1.41.1-py2.py3-none-any.whl (105 kB)\n",
            "\u001b[K     |████████████████████████████████| 105 kB 14.3 MB/s \n",
            "\u001b[?25hRequirement already satisfied: requests<3.0.0dev,>=2.18.0 in /usr/local/lib/python3.7/dist-packages (from google-cloud-storage) (2.23.0)\n",
            "Collecting google-resumable-media<3.0dev,>=1.3.0\n",
            "  Downloading google_resumable_media-1.3.1-py2.py3-none-any.whl (75 kB)\n",
            "\u001b[K     |████████████████████████████████| 75 kB 5.0 MB/s \n",
            "\u001b[?25hCollecting google-cloud-core<3.0dev,>=1.6.0\n",
            "  Downloading google_cloud_core-1.7.1-py2.py3-none-any.whl (28 kB)\n",
            "Requirement already satisfied: google-auth<3.0dev,>=1.24.0 in /usr/local/lib/python3.7/dist-packages (from google-cloud-storage) (1.32.1)\n",
            "Requirement already satisfied: pyasn1-modules>=0.2.1 in /usr/local/lib/python3.7/dist-packages (from google-auth<3.0dev,>=1.24.0->google-cloud-storage) (0.2.8)\n",
            "Requirement already satisfied: six>=1.9.0 in /usr/local/lib/python3.7/dist-packages (from google-auth<3.0dev,>=1.24.0->google-cloud-storage) (1.15.0)\n",
            "Requirement already satisfied: cachetools<5.0,>=2.0.0 in /usr/local/lib/python3.7/dist-packages (from google-auth<3.0dev,>=1.24.0->google-cloud-storage) (4.2.2)\n",
            "Requirement already satisfied: setuptools>=40.3.0 in /usr/local/lib/python3.7/dist-packages (from google-auth<3.0dev,>=1.24.0->google-cloud-storage) (57.2.0)\n",
            "Requirement already satisfied: rsa<5,>=3.1.4 in /usr/local/lib/python3.7/dist-packages (from google-auth<3.0dev,>=1.24.0->google-cloud-storage) (4.7.2)\n",
            "Requirement already satisfied: google-api-core<2.0.0dev,>=1.21.0 in /usr/local/lib/python3.7/dist-packages (from google-cloud-core<3.0dev,>=1.6.0->google-cloud-storage) (1.26.3)\n",
            "Requirement already satisfied: protobuf>=3.12.0 in /usr/local/lib/python3.7/dist-packages (from google-api-core<2.0.0dev,>=1.21.0->google-cloud-core<3.0dev,>=1.6.0->google-cloud-storage) (3.17.3)\n",
            "Requirement already satisfied: packaging>=14.3 in /usr/local/lib/python3.7/dist-packages (from google-api-core<2.0.0dev,>=1.21.0->google-cloud-core<3.0dev,>=1.6.0->google-cloud-storage) (21.0)\n",
            "Requirement already satisfied: pytz in /usr/local/lib/python3.7/dist-packages (from google-api-core<2.0.0dev,>=1.21.0->google-cloud-core<3.0dev,>=1.6.0->google-cloud-storage) (2018.9)\n",
            "Requirement already satisfied: googleapis-common-protos<2.0dev,>=1.6.0 in /usr/local/lib/python3.7/dist-packages (from google-api-core<2.0.0dev,>=1.21.0->google-cloud-core<3.0dev,>=1.6.0->google-cloud-storage) (1.53.0)\n",
            "Collecting google-crc32c<2.0dev,>=1.0\n",
            "  Downloading google_crc32c-1.1.2-cp37-cp37m-manylinux2014_x86_64.whl (38 kB)\n",
            "Requirement already satisfied: cffi>=1.0.0 in /usr/local/lib/python3.7/dist-packages (from google-crc32c<2.0dev,>=1.0->google-resumable-media<3.0dev,>=1.3.0->google-cloud-storage) (1.14.6)\n",
            "Requirement already satisfied: pycparser in /usr/local/lib/python3.7/dist-packages (from cffi>=1.0.0->google-crc32c<2.0dev,>=1.0->google-resumable-media<3.0dev,>=1.3.0->google-cloud-storage) (2.20)\n",
            "Requirement already satisfied: pyparsing>=2.0.2 in /usr/local/lib/python3.7/dist-packages (from packaging>=14.3->google-api-core<2.0.0dev,>=1.21.0->google-cloud-core<3.0dev,>=1.6.0->google-cloud-storage) (2.4.7)\n",
            "Requirement already satisfied: pyasn1<0.5.0,>=0.4.6 in /usr/local/lib/python3.7/dist-packages (from pyasn1-modules>=0.2.1->google-auth<3.0dev,>=1.24.0->google-cloud-storage) (0.4.8)\n",
            "Requirement already satisfied: urllib3!=1.25.0,!=1.25.1,<1.26,>=1.21.1 in /usr/local/lib/python3.7/dist-packages (from requests<3.0.0dev,>=2.18.0->google-cloud-storage) (1.24.3)\n",
            "Requirement already satisfied: certifi>=2017.4.17 in /usr/local/lib/python3.7/dist-packages (from requests<3.0.0dev,>=2.18.0->google-cloud-storage) (2021.5.30)\n",
            "Requirement already satisfied: idna<3,>=2.5 in /usr/local/lib/python3.7/dist-packages (from requests<3.0.0dev,>=2.18.0->google-cloud-storage) (2.10)\n",
            "Requirement already satisfied: chardet<4,>=3.0.2 in /usr/local/lib/python3.7/dist-packages (from requests<3.0.0dev,>=2.18.0->google-cloud-storage) (3.0.4)\n",
            "Installing collected packages: google-crc32c, google-resumable-media, google-cloud-core, google-cloud-storage\n",
            "  Attempting uninstall: google-resumable-media\n",
            "    Found existing installation: google-resumable-media 0.4.1\n",
            "    Uninstalling google-resumable-media-0.4.1:\n",
            "      Successfully uninstalled google-resumable-media-0.4.1\n",
            "  Attempting uninstall: google-cloud-core\n",
            "    Found existing installation: google-cloud-core 1.0.3\n",
            "    Uninstalling google-cloud-core-1.0.3:\n",
            "      Successfully uninstalled google-cloud-core-1.0.3\n",
            "  Attempting uninstall: google-cloud-storage\n",
            "    Found existing installation: google-cloud-storage 1.18.1\n",
            "    Uninstalling google-cloud-storage-1.18.1:\n",
            "      Successfully uninstalled google-cloud-storage-1.18.1\n",
            "\u001b[31mERROR: pip's dependency resolver does not currently take into account all the packages that are installed. This behaviour is the source of the following dependency conflicts.\n",
            "google-cloud-bigquery 1.21.0 requires google-resumable-media!=0.4.0,<0.5.0dev,>=0.3.1, but you have google-resumable-media 1.3.1 which is incompatible.\u001b[0m\n",
            "Successfully installed google-cloud-core-1.7.1 google-cloud-storage-1.41.1 google-crc32c-1.1.2 google-resumable-media-1.3.1\n"
          ],
          "name": "stdout"
        },
        {
          "output_type": "display_data",
          "data": {
            "application/vnd.colab-display-data+json": {
              "pip_warning": {
                "packages": [
                  "google"
                ]
              }
            }
          },
          "metadata": {
            "tags": []
          }
        }
      ]
    },
    {
      "cell_type": "code",
      "metadata": {
        "colab": {
          "base_uri": "https://localhost:8080/"
        },
        "id": "ucCgYeSt9O9H",
        "outputId": "8ee72983-7b61-464c-c541-721111c834db"
      },
      "source": [
        "def implicit():\n",
        "    from google.cloud import storage\n",
        "\n",
        "    # If you don't specify credentials when constructing the client, the\n",
        "    # client library will look for credentials in the environment.\n",
        "    storage_client = storage.Client()\n",
        "\n",
        "    # Make an authenticated API request\n",
        "    buckets = list(storage_client.list_buckets())\n",
        "    print(buckets)\n",
        "\n",
        "implicit()"
      ],
      "execution_count": null,
      "outputs": [
        {
          "output_type": "stream",
          "text": [
            "[<Bucket: always_comments>, <Bucket: output_comments>]\n"
          ],
          "name": "stdout"
        }
      ]
    },
    {
      "cell_type": "code",
      "metadata": {
        "colab": {
          "base_uri": "https://localhost:8080/"
        },
        "id": "IZCxCLCH5gRY",
        "outputId": "1f2d2b0c-bbbf-4b97-c400-8fc0ae67a111"
      },
      "source": [
        "#Instruction on Batch Prediction: https://cloud.google.com/natural-language/automl/docs/predict#automl_batch_predict-python\n",
        "#Using the following code to connect to the trained model on GCP and use it to generate labels for the rest unlabeled comments\n",
        "\n",
        "from google.cloud import automl\n",
        "\n",
        "# TODO(developer): Uncomment and set the following variables\n",
        "project_id = \"always-original-comments\"\n",
        "model_id = \"TCN7987298865885741056\t\"\n",
        "#always_comments is an input bucket I create on GCP, always_non_labeled_comments_1.csv is a file that contains the unlabeled comments\n",
        "input_uri = \"gs://always_comments/always_non_labeled_comments_3.csv\" \n",
        "#output_comments is an ouput bucket I create on GCP\n",
        "output_uri = \"gs://output_comments/\"\n",
        "\n",
        "prediction_client = automl.PredictionServiceClient()\n",
        "\n",
        "# Get the full path of the model.\n",
        "model_full_id = f\"projects/{project_id}/locations/us-central1/models/{model_id}\"\n",
        "\n",
        "gcs_source = automl.GcsSource(input_uris=[input_uri])\n",
        "\n",
        "input_config = automl.BatchPredictInputConfig(gcs_source=gcs_source)\n",
        "gcs_destination = automl.GcsDestination(output_uri_prefix=output_uri)\n",
        "output_config = automl.BatchPredictOutputConfig(gcs_destination=gcs_destination)\n",
        "\n",
        "response = prediction_client.batch_predict(name=model_full_id, input_config=input_config, output_config=output_config)\n",
        "\n",
        "print(\"Waiting for operation to complete...\")\n",
        "print(f\"Batch Prediction results saved to Cloud Storage bucket. {response.result()}\")\n",
        "print('Done')"
      ],
      "execution_count": null,
      "outputs": [
        {
          "output_type": "stream",
          "text": [
            "Waiting for operation to complete...\n",
            "Batch Prediction results saved to Cloud Storage bucket. \n",
            "Done\n"
          ],
          "name": "stdout"
        }
      ]
    },
    {
      "cell_type": "markdown",
      "metadata": {
        "id": "_Pk1clqY8ekg"
      },
      "source": [
        "# Use the trained GCP model to make prediction on new instances"
      ]
    },
    {
      "cell_type": "code",
      "metadata": {
        "id": "WZfhj0nG8i8g"
      },
      "source": [
        "#split the non-labled csv file into three, due to the difficulty of uploading the whole file to GCP\n",
        "import pandas as pd\n",
        "import numpy as np\n",
        "\n",
        "file_name = 'always_non_labeled_comments.csv'\n",
        "i=1\n",
        "for df in pd.read_csv(file_name, chunksize=3914):\n",
        "    df.to_csv('always_non_labeled_comments_{}.csv'.format(i), index=False)\n",
        "    i += 1\n",
        "print('Done')"
      ],
      "execution_count": null,
      "outputs": []
    },
    {
      "cell_type": "code",
      "metadata": {
        "id": "XMEMH-3V8jpM"
      },
      "source": [
        "#For each csv file, create a new column titled \"file_column\" that stores the input file info\n",
        "#Before uploading each csv file to GCP, as required by GCP, need to remove the text column and only save the \"file_column\" column\n",
        "#run the following Python coding in your local Jupyter Notebook\n",
        "\n",
        "import pandas as pd\n",
        "from pathlib import Path\n",
        "import os\n",
        "from tqdm import tqdm\n",
        "\n",
        "for i in [1,2,3]:\n",
        "    root_location = Path(\"C:/Users/XXX/Downloads/comments_{}\".format(i)) #replace the path with your own\n",
        "    os.makedirs(root_location, exist_ok=True)\n",
        "    df = pd.read_csv('always_non_labeled_comments_{}.csv'.format(i),encoding='utf8') \n",
        "\n",
        "    index = 0\n",
        "    file_column = []\n",
        "    for comment in tqdm(df['text']):\n",
        "        index += 1\n",
        "        with open(root_location / (str(index) + \".txt\"), \"w\", encoding='utf-8') as f:\n",
        "            f.write(comment)\n",
        "        file_column.append('gs://always_comments/comments_{}/'.format(i) + str(index) +'.txt')\n",
        "    df['file_column'] = file_column\n",
        "    df.to_csv('always_non_labeled_comments_{}.csv'.format(i), index=False)\n",
        "print('Done')"
      ],
      "execution_count": null,
      "outputs": []
    },
    {
      "cell_type": "code",
      "metadata": {
        "id": "4PXRSc2U8l1v"
      },
      "source": [
        "#parse the jsonl file generated by GCP that contains the labels\n",
        "\n",
        "path = 'C:/Users/XXX/Downloads/comments_labeled' #replace the path with your own\n",
        "\n",
        "import numpy as np\n",
        "import json\n",
        "import os\n",
        "from tqdm import tqdm\n",
        "\n",
        "\n",
        "def sentiment_value(index):\n",
        "    if index == 0:\n",
        "        return 0\n",
        "    elif index == 1:\n",
        "        return 2\n",
        "    elif index == 2:\n",
        "        return 1\n",
        "    \n",
        "df = pd.DataFrame()\n",
        "file_name, ad_sentiment = [],[]\n",
        "i = 0\n",
        "for filename in tqdm(os.listdir(path)):\n",
        "    i += 1\n",
        "    with open (path + '/' + filename, 'r') as f:\n",
        "        json_list = list(f)\n",
        "        for json_str in json_list:\n",
        "            result = json.loads(json_str)\n",
        "            #print(result)\n",
        "            file_name.append(result['textSnippet']['contentUri'])\n",
        "            value = np.argmax([result['annotations'][0]['classification']['score'],\n",
        "             result['annotations'][1]['classification']['score'],\n",
        "             result['annotations'][2]['classification']['score']])\n",
        "            value = value.item()\n",
        "            ad_sentiment.append(sentiment_value(value))\n",
        "print('number of files:',i)\n",
        "df['file_name'] = file_name\n",
        "df['ad_sentiment'] = ad_sentiment\n",
        "df.to_csv('always_non_labeled_comments_labeled.csv', index=False)\n",
        "print('Done')\n"
      ],
      "execution_count": null,
      "outputs": []
    },
    {
      "cell_type": "markdown",
      "source": [
        "# AWS Comprehend does not require any coding when you leverage the pre-trained model"
      ],
      "metadata": {
        "id": "Ast_X2jF4LNY"
      }
    },
    {
      "cell_type": "markdown",
      "source": [
        "# Use the trained AWS Comprehend model to make prediction on new instances (run the following Python coding on local Jupyter Notebook)"
      ],
      "metadata": {
        "id": "x5W3drsa6V1Z"
      }
    },
    {
      "cell_type": "code",
      "source": [
        "#for AWS testing\n",
        "#For each csv file, create a new column titled \"file_column\" that stores the input file info\n",
        "\n",
        "import pandas as pd\n",
        "from pathlib import Path\n",
        "import os\n",
        "from tqdm import tqdm\n",
        "\n",
        "root_location = Path(\"C:/Users/XXX/Downloads/comments\") #replace the path with your own\n",
        "os.makedirs(root_location, exist_ok=True)\n",
        "df = pd.read_csv('always_non_labeled_comments.csv', encoding='latin1') \n",
        "index = 0\n",
        "file_column = []\n",
        "for comment in tqdm(df['text']):\n",
        "    index += 1\n",
        "    with open(root_location / (str(index) + \".txt\"), \"w\", encoding='utf-8') as f:\n",
        "        f.write(comment)\n",
        "        file_column.append(str(index) +'.txt')\n",
        "df['file_column'] = file_column\n",
        "df.to_csv('always_non_labeled_comments.csv', index=False)\n",
        "print('Done')\n"
      ],
      "metadata": {
        "id": "sgunLSfg6biS"
      },
      "execution_count": null,
      "outputs": []
    },
    {
      "cell_type": "code",
      "source": [
        "#parse the jsonl file generated by AWS that contains the labels\n",
        "\n",
        "file = 'C:/Users/XXX/Downloads/AWS_predictions.jsonl'#replace the path with your own\n",
        "\n",
        "import numpy as np\n",
        "import json\n",
        "import os\n",
        "from tqdm import tqdm\n",
        "\n",
        "\n",
        "df = pd.DataFrame()\n",
        "file_column, ad_sentiment_AWS = [],[]\n",
        "\n",
        "i=0\n",
        "with open (file, 'r') as f:\n",
        "    json_list = list(f)\n",
        "    for json_str in json_list:\n",
        "        i += 1\n",
        "        result = json.loads(json_str)\n",
        "        #print(result)\n",
        "        file_column.append(result['File'])\n",
        "        score_list = [result['Classes'][0]['Score'], result['Classes'][1]['Score'], result['Classes'][2]['Score']]\n",
        "        value = result['Classes'][np.argmax(score_list)]['Name']\n",
        "        ad_sentiment_AWS.append(value)\n",
        "print('number of files:',i)\n",
        "df['file_column'] = file_column\n",
        "df['ad_sentiment_AWS'] = ad_sentiment_AWS\n",
        "df.to_csv('test.csv', index=False)\n",
        "print('Done')\n"
      ],
      "metadata": {
        "id": "b3RH9tM36jsz"
      },
      "execution_count": null,
      "outputs": []
    },
    {
      "cell_type": "code",
      "source": [
        "#extract .tar.gz file\n",
        "\n",
        "import tarfile\n",
        "tar = tarfile.open(\"output.tar.gz\")\n",
        "tar.extractall()"
      ],
      "metadata": {
        "id": "f19SykAa6nO5"
      },
      "execution_count": null,
      "outputs": []
    },
    {
      "cell_type": "markdown",
      "metadata": {
        "id": "mT5flf5eh7gs"
      },
      "source": [
        "# LDA - Generate Topics for Comments that Support or Disapprove the Video Ideology "
      ]
    },
    {
      "cell_type": "code",
      "metadata": {
        "colab": {
          "base_uri": "https://localhost:8080/",
          "height": 286
        },
        "id": "j-aBzraQh9o2",
        "outputId": "acc52e35-11d3-432e-e485-e51103aed3e3"
      },
      "source": [
        "pip install openpyxl --upgrade "
      ],
      "execution_count": null,
      "outputs": [
        {
          "output_type": "stream",
          "text": [
            "Requirement already satisfied: openpyxl in /usr/local/lib/python3.7/dist-packages (2.5.9)\n",
            "Collecting openpyxl\n",
            "  Downloading openpyxl-3.0.7-py2.py3-none-any.whl (243 kB)\n",
            "\u001b[K     |████████████████████████████████| 243 kB 4.3 MB/s \n",
            "\u001b[?25hRequirement already satisfied: et-xmlfile in /usr/local/lib/python3.7/dist-packages (from openpyxl) (1.1.0)\n",
            "Installing collected packages: openpyxl\n",
            "  Attempting uninstall: openpyxl\n",
            "    Found existing installation: openpyxl 2.5.9\n",
            "    Uninstalling openpyxl-2.5.9:\n",
            "      Successfully uninstalled openpyxl-2.5.9\n",
            "Successfully installed openpyxl-3.0.7\n"
          ],
          "name": "stdout"
        },
        {
          "output_type": "display_data",
          "data": {
            "application/vnd.colab-display-data+json": {
              "pip_warning": {
                "packages": [
                  "openpyxl"
                ]
              }
            }
          },
          "metadata": {
            "tags": []
          }
        }
      ]
    },
    {
      "cell_type": "code",
      "metadata": {
        "colab": {
          "base_uri": "https://localhost:8080/",
          "height": 526
        },
        "id": "yrE4YccUiPwq",
        "outputId": "e42a061b-d84a-4208-844b-9715c946962d"
      },
      "source": [
        "#connect to the Excel file with sentiment labels in Google Drive\n",
        "from google.colab import drive\n",
        "drive.mount('/content/drive')\n",
        "! ls /content/drive/MyDrive/always_unique_English_comments_sentiment.xlsx\n",
        "\n",
        "import pandas as pd\n",
        "\n",
        "df = pd.read_excel('/content/drive/MyDrive/always_unique_English_comments_sentiment.xlsx')\n",
        "\n",
        "df.head(5)"
      ],
      "execution_count": null,
      "outputs": [
        {
          "output_type": "stream",
          "text": [
            "Drive already mounted at /content/drive; to attempt to forcibly remount, call drive.mount(\"/content/drive\", force_remount=True).\n",
            "/content/drive/MyDrive/always_unique_English_comments_sentiment.xlsx\n"
          ],
          "name": "stdout"
        },
        {
          "output_type": "execute_result",
          "data": {
            "text/html": [
              "<div>\n",
              "<style scoped>\n",
              "    .dataframe tbody tr th:only-of-type {\n",
              "        vertical-align: middle;\n",
              "    }\n",
              "\n",
              "    .dataframe tbody tr th {\n",
              "        vertical-align: top;\n",
              "    }\n",
              "\n",
              "    .dataframe thead th {\n",
              "        text-align: right;\n",
              "    }\n",
              "</style>\n",
              "<table border=\"1\" class=\"dataframe\">\n",
              "  <thead>\n",
              "    <tr style=\"text-align: right;\">\n",
              "      <th></th>\n",
              "      <th>comment_id.1.1.1</th>\n",
              "      <th>text</th>\n",
              "      <th>time</th>\n",
              "      <th>author</th>\n",
              "      <th>like</th>\n",
              "      <th>language</th>\n",
              "      <th>time_order</th>\n",
              "      <th>mention</th>\n",
              "      <th>comment_or_reply</th>\n",
              "      <th>reply</th>\n",
              "      <th>brand presence</th>\n",
              "      <th>ad sentiment</th>\n",
              "      <th>text_clean</th>\n",
              "      <th>ad_sentiment_new</th>\n",
              "      <th>file_name</th>\n",
              "    </tr>\n",
              "  </thead>\n",
              "  <tbody>\n",
              "    <tr>\n",
              "      <th>0</th>\n",
              "      <td>UgjKJvPp3seTt3gCoAEC</td>\n",
              "      <td>Great use of the power of brand content. You g...</td>\n",
              "      <td>5 years ago</td>\n",
              "      <td>Mary-Noelle Dana</td>\n",
              "      <td>3</td>\n",
              "      <td>True</td>\n",
              "      <td>3</td>\n",
              "      <td>No</td>\n",
              "      <td>0</td>\n",
              "      <td>0</td>\n",
              "      <td>NaN</td>\n",
              "      <td>NaN</td>\n",
              "      <td>great use power brand content guy girl behind ...</td>\n",
              "      <td>2</td>\n",
              "      <td>gs://always_comments/comments_1/1.txt</td>\n",
              "    </tr>\n",
              "    <tr>\n",
              "      <th>1</th>\n",
              "      <td>Uggt7Cvi4lu9CngCoAEC</td>\n",
              "      <td>:) Made us think,</td>\n",
              "      <td>5 years ago</td>\n",
              "      <td>Jessie Liu</td>\n",
              "      <td>5</td>\n",
              "      <td>True</td>\n",
              "      <td>4</td>\n",
              "      <td>No</td>\n",
              "      <td>0</td>\n",
              "      <td>0</td>\n",
              "      <td>0.0</td>\n",
              "      <td>2.0</td>\n",
              "      <td>make us think</td>\n",
              "      <td>2</td>\n",
              "      <td>NaN</td>\n",
              "    </tr>\n",
              "    <tr>\n",
              "      <th>2</th>\n",
              "      <td>UgjcmlECUIp3jHgCoAEC</td>\n",
              "      <td>Great video! Great campaign! =)</td>\n",
              "      <td>5 years ago</td>\n",
              "      <td>AlexP</td>\n",
              "      <td>3</td>\n",
              "      <td>True</td>\n",
              "      <td>5</td>\n",
              "      <td>No</td>\n",
              "      <td>0</td>\n",
              "      <td>0</td>\n",
              "      <td>NaN</td>\n",
              "      <td>NaN</td>\n",
              "      <td>great video great campaign</td>\n",
              "      <td>2</td>\n",
              "      <td>gs://always_comments/comments_1/2.txt</td>\n",
              "    </tr>\n",
              "    <tr>\n",
              "      <th>3</th>\n",
              "      <td>UgjJjkSMfbD-5HgCoAEC</td>\n",
              "      <td>Because  #likeagirl  is a great thing, not som...</td>\n",
              "      <td>5 years ago</td>\n",
              "      <td>Clayton Reeves</td>\n",
              "      <td>17</td>\n",
              "      <td>True</td>\n",
              "      <td>6</td>\n",
              "      <td>No</td>\n",
              "      <td>0</td>\n",
              "      <td>0</td>\n",
              "      <td>NaN</td>\n",
              "      <td>NaN</td>\n",
              "      <td>likeagirl great thing something ashamed</td>\n",
              "      <td>2</td>\n",
              "      <td>gs://always_comments/comments_1/3.txt</td>\n",
              "    </tr>\n",
              "    <tr>\n",
              "      <th>4</th>\n",
              "      <td>UgjbPhQQb_kv3HgCoAEC</td>\n",
              "      <td>most thoughtful advertisement ive come across ...</td>\n",
              "      <td>5 years ago</td>\n",
              "      <td>mia montillano</td>\n",
              "      <td>28</td>\n",
              "      <td>True</td>\n",
              "      <td>7</td>\n",
              "      <td>No</td>\n",
              "      <td>0</td>\n",
              "      <td>0</td>\n",
              "      <td>0.0</td>\n",
              "      <td>2.0</td>\n",
              "      <td>thoughtful advertisement come across youtube</td>\n",
              "      <td>2</td>\n",
              "      <td>NaN</td>\n",
              "    </tr>\n",
              "  </tbody>\n",
              "</table>\n",
              "</div>"
            ],
            "text/plain": [
              "       comment_id.1.1.1  ...                              file_name\n",
              "0  UgjKJvPp3seTt3gCoAEC  ...  gs://always_comments/comments_1/1.txt\n",
              "1  Uggt7Cvi4lu9CngCoAEC  ...                                    NaN\n",
              "2  UgjcmlECUIp3jHgCoAEC  ...  gs://always_comments/comments_1/2.txt\n",
              "3  UgjJjkSMfbD-5HgCoAEC  ...  gs://always_comments/comments_1/3.txt\n",
              "4  UgjbPhQQb_kv3HgCoAEC  ...                                    NaN\n",
              "\n",
              "[5 rows x 15 columns]"
            ]
          },
          "metadata": {
            "tags": []
          },
          "execution_count": 6
        }
      ]
    },
    {
      "cell_type": "code",
      "metadata": {
        "id": "bXb9mAblikK7"
      },
      "source": [
        "df_positive = df[df['ad_sentiment_new']==2]\n",
        "df_negative = df[df['ad_sentiment_new']==0]\n",
        "\n",
        "positive_lemmatized = [str(comment).split() for comment in df_positive['text_clean']]\n",
        "negative_lemmatized = [str(comment).split() for comment in df_negative['text_clean']]"
      ],
      "execution_count": null,
      "outputs": []
    },
    {
      "cell_type": "code",
      "metadata": {
        "colab": {
          "base_uri": "https://localhost:8080/"
        },
        "id": "oCcQNNAsjc4K",
        "outputId": "be2a6b6b-9bb4-4993-97f8-7386f399b9a4"
      },
      "source": [
        "#data transformation for LDA\n",
        "\n",
        "import gensim.corpora as corpora\n",
        "\n",
        "def generate_corpus(lemmatized_text):\n",
        "  # Create Dictionary\n",
        "  id2word = corpora.Dictionary(lemmatized_text)\n",
        "  # Create Corpus\n",
        "  texts = lemmatized_text\n",
        "  # Term Document Frequency\n",
        "  corpus = [id2word.doc2bow(text) for text in texts]\n",
        "  return id2word, corpus\n",
        "\n",
        "# View\n",
        "generate_corpus(positive_lemmatized)[1][:1], generate_corpus(negative_lemmatized)[1][:1]"
      ],
      "execution_count": null,
      "outputs": [
        {
          "output_type": "execute_result",
          "data": {
            "text/plain": [
              "([[(0, 1),\n",
              "   (1, 1),\n",
              "   (2, 1),\n",
              "   (3, 2),\n",
              "   (4, 1),\n",
              "   (5, 1),\n",
              "   (6, 1),\n",
              "   (7, 1),\n",
              "   (8, 1),\n",
              "   (9, 1),\n",
              "   (10, 1),\n",
              "   (11, 1)]],\n",
              " [[(0, 1),\n",
              "   (1, 2),\n",
              "   (2, 1),\n",
              "   (3, 1),\n",
              "   (4, 1),\n",
              "   (5, 1),\n",
              "   (6, 1),\n",
              "   (7, 1),\n",
              "   (8, 2),\n",
              "   (9, 1),\n",
              "   (10, 1),\n",
              "   (11, 1),\n",
              "   (12, 1),\n",
              "   (13, 1)]])"
            ]
          },
          "metadata": {
            "tags": []
          },
          "execution_count": 9
        }
      ]
    },
    {
      "cell_type": "code",
      "metadata": {
        "colab": {
          "base_uri": "https://localhost:8080/"
        },
        "id": "ot8KnW6jksDl",
        "outputId": "036b36b7-2e0e-465c-e5e3-1b939094c5c4"
      },
      "source": [
        "# Build LDA model for the positive comments with a random number of topics\n",
        "\n",
        "import gensim\n",
        "\n",
        "id2word, corpus = generate_corpus(positive_lemmatized)\n",
        "\n",
        "lda_model = gensim.models.LdaMulticore(corpus=corpus,\n",
        "                                       id2word=id2word,\n",
        "                                       num_topics=4, \n",
        "                                       random_state=100,\n",
        "                                       chunksize=100,\n",
        "                                       passes=3,\n",
        "                                       per_word_topics=True)\n",
        "\n",
        "#view the topics in LDA\n",
        "\n",
        "from pprint import pprint\n",
        "# Print the Keyword in the 10 topics\n",
        "pprint(lda_model.print_topics())\n",
        "doc_lda = lda_model[corpus]\n",
        "\n",
        "#calculate coherence score\n",
        "\n",
        "from gensim.models import CoherenceModel\n",
        "# Compute Coherence Score\n",
        "coherence_model_lda = CoherenceModel(model=lda_model, texts=positive_lemmatized, dictionary=id2word, coherence='c_v')\n",
        "coherence_lda = coherence_model_lda.get_coherence()\n",
        "print('\\nCoherence Score: ', coherence_lda)"
      ],
      "execution_count": null,
      "outputs": [
        {
          "output_type": "stream",
          "text": [
            "[(0,\n",
            "  '0.062*\"video\" + 0.034*\"love\" + 0.025*\"make\" + 0.019*\"thank\" + '\n",
            "  '0.017*\"really\" + 0.017*\"cry\" + 0.015*\"watch\" + 0.015*\"much\" + '\n",
            "  '0.014*\"amazing\" + 0.014*\"always\"'),\n",
            " (1,\n",
            "  '0.017*\"year\" + 0.016*\"play\" + 0.011*\"old\" + 0.010*\"team\" + 0.009*\"sister\" + '\n",
            "  '0.008*\"coach\" + 0.008*\"school\" + 0.008*\"go\" + 0.007*\"one\" + 0.007*\"kid\"'),\n",
            " (2,\n",
            "  '0.042*\"man\" + 0.035*\"woman\" + 0.020*\"people\" + 0.014*\"gender\" + '\n",
            "  '0.012*\"strong\" + 0.012*\"think\" + 0.010*\"video\" + 0.009*\"male\" + '\n",
            "  '0.009*\"female\" + 0.009*\"thing\"'),\n",
            " (3,\n",
            "  '0.153*\"girl\" + 0.101*\"like\" + 0.042*\"say\" + 0.038*\"boy\" + 0.035*\"run\" + '\n",
            "  '0.014*\"mean\" + 0.013*\"tell\" + 0.010*\"thing\" + 0.010*\"think\" + '\n",
            "  '0.009*\"strong\"')]\n",
            "\n",
            "Coherence Score:  0.5312546225372087\n"
          ],
          "name": "stdout"
        }
      ]
    },
    {
      "cell_type": "code",
      "metadata": {
        "colab": {
          "base_uri": "https://localhost:8080/"
        },
        "id": "CZhiPty_l5Wc",
        "outputId": "7f1b5892-e412-423b-9d93-d229172af29a"
      },
      "source": [
        "#fine tune the LDA base model (for positive comments) by setting up the function\n",
        "\n",
        "# supporting function\n",
        "def compute_coherence_values(corpus, dictionary, k, a, b):\n",
        "    \n",
        "    lda_model = gensim.models.LdaMulticore(corpus=corpus,\n",
        "                                           id2word=id2word,\n",
        "                                           num_topics=k, \n",
        "                                           random_state=100,\n",
        "                                           chunksize=100,\n",
        "                                           passes=3,\n",
        "                                           alpha=a,\n",
        "                                           eta=b,\n",
        "                                           per_word_topics=True)\n",
        "    \n",
        "    coherence_model_lda = CoherenceModel(model=lda_model, texts=positive_lemmatized, dictionary=id2word, coherence='c_v')\n",
        "    \n",
        "    return coherence_model_lda.get_coherence()\n",
        "\n",
        "print('Done')"
      ],
      "execution_count": null,
      "outputs": [
        {
          "output_type": "stream",
          "text": [
            "Done\n"
          ],
          "name": "stdout"
        }
      ]
    },
    {
      "cell_type": "code",
      "metadata": {
        "colab": {
          "base_uri": "https://localhost:8080/"
        },
        "id": "4ZV35dpFzBkP",
        "outputId": "46ae1aa5-13a8-440b-8b92-571710cf4b26"
      },
      "source": [
        "#fine tune the LDA model for the positive comments\n",
        "\n",
        "\n",
        "import numpy as np\n",
        "from tqdm import tqdm\n",
        "grid = {}\n",
        "grid['Validation_Set'] = {}\n",
        "# Topics range\n",
        "min_topics = 1\n",
        "max_topics = 21\n",
        "step_size = 1\n",
        "topics_range = range(min_topics, max_topics, step_size)\n",
        "# Alpha parameter\n",
        "alpha = list(np.arange(0.01, 1, 0.3))\n",
        "print('alpha:', alpha)\n",
        "# Beta parameter\n",
        "beta = list(np.arange(0.01, 1, 0.3))\n",
        "#eta.append('symmetric')\n",
        "print('beta:', beta)\n",
        "\n",
        "\n",
        "# Validation sets\n",
        "num_of_docs = len(corpus)\n",
        "model_results = {'Topics': [],\n",
        "                 'Alpha': [],\n",
        "                 'Beta': [],\n",
        "                 'Coherence': []\n",
        "                }\n",
        "\n",
        "# Can take a long time to run\n",
        "\n",
        "# iterate through number of topics\n",
        "for k in tqdm(topics_range):\n",
        "    # iterate through alpha values\n",
        "    for a in alpha:\n",
        "        # iterare through beta values\n",
        "        for b in beta:\n",
        "            # get the coherence score for the given parameters\n",
        "            cv = compute_coherence_values(corpus=corpus, dictionary=id2word, \n",
        "                                                  k=k, a=a, b=b)\n",
        "            # Save the model results\n",
        "            model_results['Topics'].append(k)\n",
        "            model_results['Alpha'].append(a)\n",
        "            model_results['Beta'].append(b)\n",
        "            model_results['Coherence'].append(cv)\n",
        "                    \n",
        "                \n",
        "pd.DataFrame(model_results).to_csv('/content/drive/MyDrive/lda_tuning_results_always_positive_comments.csv', index=False)\n",
        "\n",
        "\n",
        "print('========================================Done!=======================================')"
      ],
      "execution_count": null,
      "outputs": [
        {
          "output_type": "stream",
          "text": [
            "\n",
            "\n",
            "\n",
            "  0%|          | 0/20 [00:00<?, ?it/s]\u001b[A\u001b[A\u001b[A"
          ],
          "name": "stderr"
        },
        {
          "output_type": "stream",
          "text": [
            "alpha: [0.01, 0.31, 0.61, 0.9099999999999999]\n",
            "beta: [0.01, 0.31, 0.61, 0.9099999999999999]\n"
          ],
          "name": "stdout"
        },
        {
          "output_type": "stream",
          "text": [
            "/usr/local/lib/python3.7/dist-packages/gensim/models/ldamodel.py:1023: RuntimeWarning: divide by zero encountered in log\n",
            "  diff = np.log(self.expElogbeta)\n",
            "\n",
            "\n",
            "\n",
            "  5%|▌         | 1/20 [01:19<25:18, 79.92s/it]\u001b[A\u001b[A\u001b[A\n",
            "\n",
            "\n",
            " 10%|█         | 2/20 [04:27<33:39, 112.22s/it]\u001b[A\u001b[A\u001b[A\n",
            "\n",
            "\n",
            " 15%|█▌        | 3/20 [07:52<39:40, 140.04s/it]\u001b[A\u001b[A\u001b[A\n",
            "\n",
            "\n",
            " 20%|██        | 4/20 [11:16<42:28, 159.28s/it]\u001b[A\u001b[A\u001b[A\n",
            "\n",
            "\n",
            " 25%|██▌       | 5/20 [14:25<42:00, 168.02s/it]\u001b[A\u001b[A\u001b[A\n",
            "\n",
            "\n",
            " 30%|███       | 6/20 [17:35<40:46, 174.72s/it]\u001b[A\u001b[A\u001b[A\n",
            "\n",
            "\n",
            " 35%|███▌      | 7/20 [20:50<39:10, 180.79s/it]\u001b[A\u001b[A\u001b[A\n",
            "\n",
            "\n",
            " 40%|████      | 8/20 [24:03<36:54, 184.54s/it]\u001b[A\u001b[A\u001b[A\n",
            "\n",
            "\n",
            " 45%|████▌     | 9/20 [27:21<34:34, 188.55s/it]\u001b[A\u001b[A\u001b[A\n",
            "\n",
            "\n",
            " 50%|█████     | 10/20 [30:39<31:55, 191.52s/it]\u001b[A\u001b[A\u001b[A\n",
            "\n",
            "\n",
            " 55%|█████▌    | 11/20 [33:58<29:03, 193.76s/it]\u001b[A\u001b[A\u001b[A\n",
            "\n",
            "\n",
            " 60%|██████    | 12/20 [37:15<25:56, 194.58s/it]\u001b[A\u001b[A\u001b[A\n",
            "\n",
            "\n",
            " 65%|██████▌   | 13/20 [40:28<22:39, 194.22s/it]\u001b[A\u001b[A\u001b[A\n",
            "\n",
            "\n",
            " 70%|███████   | 14/20 [43:43<19:25, 194.29s/it]\u001b[A\u001b[A\u001b[A\n",
            "\n",
            "\n",
            " 75%|███████▌  | 15/20 [46:54<16:06, 193.34s/it]\u001b[A\u001b[A\u001b[A\n",
            "\n",
            "\n",
            " 80%|████████  | 16/20 [50:02<12:47, 191.87s/it]\u001b[A\u001b[A\u001b[A\n",
            "\n",
            "\n",
            " 85%|████████▌ | 17/20 [53:15<09:36, 192.11s/it]\u001b[A\u001b[A\u001b[A\n",
            "\n",
            "\n",
            " 90%|█████████ | 18/20 [56:23<06:21, 191.00s/it]\u001b[A\u001b[A\u001b[A\n",
            "\n",
            "\n",
            " 95%|█████████▌| 19/20 [59:36<03:11, 191.37s/it]\u001b[A\u001b[A\u001b[A\n",
            "\n",
            "\n",
            "100%|██████████| 20/20 [1:02:54<00:00, 188.71s/it]"
          ],
          "name": "stderr"
        },
        {
          "output_type": "stream",
          "text": [
            "========================================Done!=======================================\n"
          ],
          "name": "stdout"
        },
        {
          "output_type": "stream",
          "text": [
            "\n"
          ],
          "name": "stderr"
        }
      ]
    },
    {
      "cell_type": "code",
      "metadata": {
        "colab": {
          "base_uri": "https://localhost:8080/",
          "height": 400
        },
        "id": "v61yu7N8B2l_",
        "outputId": "5c3dd8f4-7303-4bf6-e677-a4ef711b92e5"
      },
      "source": [
        "#show the c_v value for different topic numbers for positive comments\n",
        "\n",
        "import pandas as pd\n",
        "\n",
        "df = pd.read_csv('/content/drive/MyDrive/lda_tuning_results_always_positive_comments.csv')\n",
        "\n",
        "import seaborn as sns\n",
        "\n",
        "#sns.catplot(x=\"Topics\", y=\"Coherence\", kind=\"point\", data=df)\n",
        "\n",
        "sns.catplot(x=\"Topics\", y=\"Coherence\", kind='point', data=df) #palette=sns.color_palette(['green', 'blue'])"
      ],
      "execution_count": null,
      "outputs": [
        {
          "output_type": "execute_result",
          "data": {
            "text/plain": [
              "<seaborn.axisgrid.FacetGrid at 0x7ffb68b345d0>"
            ]
          },
          "metadata": {
            "tags": []
          },
          "execution_count": 30
        },
        {
          "output_type": "display_data",
          "data": {
            "image/png": "[encoded data removed]",
            "text/plain": [
              "<Figure size 360x360 with 1 Axes>"
            ]
          },
          "metadata": {
            "tags": [],
            "needs_background": "light"
          }
        }
      ]
    },
    {
      "cell_type": "code",
      "metadata": {
        "colab": {
          "base_uri": "https://localhost:8080/"
        },
        "id": "AlgpDJmgffB_",
        "outputId": "d8c78896-542f-4252-ad44-122a5219c330"
      },
      "source": [
        "# Build LDA model for the positive comments with the optimal number of topics (n = 2)\n",
        "\n",
        "import gensim\n",
        "\n",
        "id2word, corpus = generate_corpus(positive_lemmatized)\n",
        "\n",
        "lda_model = gensim.models.LdaMulticore(corpus=corpus,\n",
        "                                       id2word=id2word,\n",
        "                                       num_topics=2, \n",
        "                                       random_state=100,\n",
        "                                       chunksize=100,\n",
        "                                       passes=3,\n",
        "                                       per_word_topics=True)\n",
        "\n",
        "#view the topics in LDA\n",
        "\n",
        "from pprint import pprint\n",
        "# Print the Keyword in the 10 topics\n",
        "pprint(lda_model.print_topics())\n",
        "doc_lda = lda_model[corpus]\n",
        "\n",
        "#calculate coherence score\n",
        "\n",
        "from gensim.models import CoherenceModel\n",
        "# Compute Coherence Score\n",
        "coherence_model_lda = CoherenceModel(model=lda_model, texts=positive_lemmatized, dictionary=id2word, coherence='c_v')\n",
        "coherence_lda = coherence_model_lda.get_coherence()\n",
        "print('\\nCoherence Score: ', coherence_lda)"
      ],
      "execution_count": null,
      "outputs": [
        {
          "output_type": "stream",
          "text": [
            "[(0,\n",
            "  '0.119*\"girl\" + 0.080*\"like\" + 0.034*\"say\" + 0.029*\"boy\" + 0.027*\"run\" + '\n",
            "  '0.011*\"mean\" + 0.011*\"tell\" + 0.010*\"make\" + 0.009*\"think\" + 0.008*\"thing\"'),\n",
            " (1,\n",
            "  '0.027*\"man\" + 0.023*\"woman\" + 0.022*\"video\" + 0.013*\"people\" + '\n",
            "  '0.009*\"comment\" + 0.009*\"gender\" + 0.008*\"see\" + 0.008*\"think\" + '\n",
            "  '0.007*\"get\" + 0.007*\"strong\"')]\n",
            "\n",
            "Coherence Score:  0.5526600037187342\n"
          ],
          "name": "stdout"
        }
      ]
    },
    {
      "cell_type": "code",
      "metadata": {
        "colab": {
          "base_uri": "https://localhost:8080/"
        },
        "id": "vA2oIsSKjCuP",
        "outputId": "c2d0b09a-5021-42a5-fc9b-00bf03aba256"
      },
      "source": [
        "# Build LDA model for the negative comments with a random number of topics\n",
        "\n",
        "import gensim\n",
        "\n",
        "id2word, corpus = generate_corpus(negative_lemmatized)\n",
        "\n",
        "lda_model = gensim.models.LdaMulticore(corpus=corpus,\n",
        "                                       id2word=id2word,\n",
        "                                       num_topics=4, \n",
        "                                       random_state=100,\n",
        "                                       chunksize=100,\n",
        "                                       passes=3,\n",
        "                                       per_word_topics=True)\n",
        "\n",
        "#view the topics in LDA\n",
        "\n",
        "from pprint import pprint\n",
        "# Print the Keyword in the 10 topics\n",
        "pprint(lda_model.print_topics())\n",
        "doc_lda = lda_model[corpus]\n",
        "\n",
        "#calculate coherence score\n",
        "\n",
        "from gensim.models import CoherenceModel\n",
        "# Compute Coherence Score\n",
        "coherence_model_lda = CoherenceModel(model=lda_model, texts=negative_lemmatized, dictionary=id2word, coherence='c_v')\n",
        "coherence_lda = coherence_model_lda.get_coherence()\n",
        "print('\\nCoherence Score: ', coherence_lda)"
      ],
      "execution_count": null,
      "outputs": [
        {
          "output_type": "stream",
          "text": [
            "[(0,\n",
            "  '0.134*\"girl\" + 0.098*\"like\" + 0.040*\"boy\" + 0.035*\"run\" + 0.030*\"say\" + '\n",
            "  '0.023*\"insult\" + 0.017*\"guy\" + 0.015*\"throw\" + 0.013*\"thing\" + '\n",
            "  '0.013*\"tell\"'),\n",
            " (1,\n",
            "  '0.024*\"video\" + 0.022*\"feminist\" + 0.020*\"get\" + 0.018*\"make\" + '\n",
            "  '0.016*\"always\" + 0.015*\"people\" + 0.014*\"go\" + 0.013*\"stop\" + '\n",
            "  '0.012*\"commercial\" + 0.011*\"stupid\"'),\n",
            " (2,\n",
            "  '0.010*\"gender\" + 0.010*\"one\" + 0.009*\"confidence\" + 0.008*\"need\" + '\n",
            "  '0.008*\"stereotype\" + 0.008*\"go\" + 0.008*\"society\" + 0.007*\"woman\" + '\n",
            "  '0.007*\"puberty\" + 0.007*\"people\"'),\n",
            " (3,\n",
            "  '0.088*\"man\" + 0.076*\"woman\" + 0.026*\"strong\" + 0.022*\"male\" + '\n",
            "  '0.020*\"female\" + 0.014*\"weak\" + 0.013*\"physically\" + 0.011*\"well\" + '\n",
            "  '0.010*\"average\" + 0.010*\"fact\"')]\n",
            "\n",
            "Coherence Score:  0.5394038002502015\n"
          ],
          "name": "stdout"
        }
      ]
    },
    {
      "cell_type": "code",
      "metadata": {
        "colab": {
          "base_uri": "https://localhost:8080/"
        },
        "id": "zkg5Z0Xagjbz",
        "outputId": "caf68fe1-4fb2-4f45-a10e-34774690d32a"
      },
      "source": [
        "#fine tune the LDA base model (for negative comments) by setting up the function\n",
        "\n",
        "# supporting function\n",
        "def compute_coherence_values(corpus, dictionary, k, a, b):\n",
        "    \n",
        "    lda_model = gensim.models.LdaMulticore(corpus=corpus,\n",
        "                                           id2word=id2word,\n",
        "                                           num_topics=k, \n",
        "                                           random_state=100,\n",
        "                                           chunksize=100,\n",
        "                                           passes=3,\n",
        "                                           alpha=a,\n",
        "                                           eta=b,\n",
        "                                           per_word_topics=True)\n",
        "    \n",
        "    coherence_model_lda = CoherenceModel(model=lda_model, texts=negative_lemmatized, dictionary=id2word, coherence='c_v')\n",
        "    \n",
        "    return coherence_model_lda.get_coherence()\n",
        "\n",
        "print('Done')"
      ],
      "execution_count": null,
      "outputs": [
        {
          "output_type": "stream",
          "text": [
            "Done\n"
          ],
          "name": "stdout"
        }
      ]
    },
    {
      "cell_type": "code",
      "metadata": {
        "colab": {
          "base_uri": "https://localhost:8080/"
        },
        "id": "r2KdJUJciiHv",
        "outputId": "a659b04f-b5eb-4639-a905-e9ef96115120"
      },
      "source": [
        "#fine tune the LDA model for the negative comments\n",
        "\n",
        "import gensim\n",
        "import numpy as np\n",
        "from tqdm import tqdm\n",
        "grid = {}\n",
        "grid['Validation_Set'] = {}\n",
        "# Topics range\n",
        "min_topics = 1\n",
        "max_topics = 21\n",
        "step_size = 1\n",
        "topics_range = range(min_topics, max_topics, step_size)\n",
        "# Alpha parameter\n",
        "alpha = list(np.arange(0.01, 1, 0.3))\n",
        "print('alpha:', alpha)\n",
        "# Beta parameter\n",
        "beta = list(np.arange(0.01, 1, 0.3))\n",
        "#eta.append('symmetric')\n",
        "print('beta:', beta)\n",
        "\n",
        "\n",
        "# Validation sets\n",
        "num_of_docs = len(corpus)\n",
        "model_results = {'Topics': [],\n",
        "                 'Alpha': [],\n",
        "                 'Beta': [],\n",
        "                 'Coherence': []\n",
        "                }\n",
        "\n",
        "# Can take a long time to run\n",
        "\n",
        "# iterate through number of topics\n",
        "for k in tqdm(topics_range):\n",
        "    # iterate through alpha values\n",
        "    for a in alpha:\n",
        "        # iterare through beta values\n",
        "        for b in beta:\n",
        "            # get the coherence score for the given parameters\n",
        "            cv = compute_coherence_values(corpus=corpus, dictionary=id2word, \n",
        "                                                  k=k, a=a, b=b)\n",
        "            # Save the model results\n",
        "            model_results['Topics'].append(k)\n",
        "            model_results['Alpha'].append(a)\n",
        "            model_results['Beta'].append(b)\n",
        "            model_results['Coherence'].append(cv)\n",
        "                    \n",
        "                \n",
        "pd.DataFrame(model_results).to_csv('/content/drive/MyDrive/lda_tuning_results_always_negative_comments.csv', index=False)\n",
        "\n",
        "\n",
        "print('========================================Done!=======================================')"
      ],
      "execution_count": null,
      "outputs": [
        {
          "output_type": "stream",
          "text": [
            "\r  0%|          | 0/20 [00:00<?, ?it/s]"
          ],
          "name": "stderr"
        },
        {
          "output_type": "stream",
          "text": [
            "alpha: [0.01, 0.31, 0.61, 0.9099999999999999]\n",
            "beta: [0.01, 0.31, 0.61, 0.9099999999999999]\n"
          ],
          "name": "stdout"
        },
        {
          "output_type": "stream",
          "text": [
            "/usr/local/lib/python3.7/dist-packages/gensim/models/ldamodel.py:1023: RuntimeWarning: divide by zero encountered in log\n",
            "  diff = np.log(self.expElogbeta)\n",
            "100%|██████████| 20/20 [1:20:51<00:00, 242.58s/it]"
          ],
          "name": "stderr"
        },
        {
          "output_type": "stream",
          "text": [
            "========================================Done!=======================================\n"
          ],
          "name": "stdout"
        },
        {
          "output_type": "stream",
          "text": [
            "\n"
          ],
          "name": "stderr"
        }
      ]
    },
    {
      "cell_type": "code",
      "metadata": {
        "colab": {
          "base_uri": "https://localhost:8080/",
          "height": 400
        },
        "id": "KDSsOL8WoZlT",
        "outputId": "f9d2d9cb-7dd9-40ab-9bdf-cc7b635269a1"
      },
      "source": [
        "#show the c_v value for different topic numbers for positive comments\n",
        "\n",
        "import pandas as pd\n",
        "\n",
        "df = pd.read_csv('/content/drive/MyDrive/lda_tuning_results_always_negative_comments.csv')\n",
        "\n",
        "import seaborn as sns\n",
        "\n",
        "#sns.catplot(x=\"Topics\", y=\"Coherence\", kind=\"point\", data=df)\n",
        "\n",
        "sns.catplot(x=\"Topics\", y=\"Coherence\", kind='point', data=df)"
      ],
      "execution_count": null,
      "outputs": [
        {
          "output_type": "execute_result",
          "data": {
            "text/plain": [
              "<seaborn.axisgrid.FacetGrid at 0x7fecb2e97510>"
            ]
          },
          "metadata": {
            "tags": []
          },
          "execution_count": 4
        },
        {
          "output_type": "display_data",
          "data": {
            "image/png": "[encoded data removed]",
            "text/plain": [
              "<Figure size 360x360 with 1 Axes>"
            ]
          },
          "metadata": {
            "tags": [],
            "needs_background": "light"
          }
        }
      ]
    },
    {
      "cell_type": "code",
      "metadata": {
        "colab": {
          "base_uri": "https://localhost:8080/"
        },
        "id": "0IWB_taOknd6",
        "outputId": "891ea058-bae6-4a23-d9d4-a30b60343dea"
      },
      "source": [
        "# Build LDA model for the negative comments with the optimal number of topics (n = 3)\n",
        "\n",
        "import gensim\n",
        "\n",
        "id2word, corpus = generate_corpus(negative_lemmatized)\n",
        "\n",
        "lda_model = gensim.models.LdaMulticore(corpus=corpus,\n",
        "                                       id2word=id2word,\n",
        "                                       num_topics=3, \n",
        "                                       random_state=100,\n",
        "                                       chunksize=100,\n",
        "                                       passes=3,\n",
        "                                       per_word_topics=True)\n",
        "\n",
        "#view the topics in LDA\n",
        "\n",
        "from pprint import pprint\n",
        "# Print the Keyword in the 10 topics\n",
        "pprint(lda_model.print_topics())\n",
        "doc_lda = lda_model[corpus]\n",
        "\n",
        "#calculate coherence score\n",
        "\n",
        "from gensim.models import CoherenceModel\n",
        "# Compute Coherence Score\n",
        "coherence_model_lda = CoherenceModel(model=lda_model, texts=negative_lemmatized, dictionary=id2word, coherence='c_v')\n",
        "coherence_lda = coherence_model_lda.get_coherence()\n",
        "print('\\nCoherence Score: ', coherence_lda)"
      ],
      "execution_count": null,
      "outputs": [
        {
          "output_type": "stream",
          "text": [
            "[(0,\n",
            "  '0.123*\"girl\" + 0.091*\"like\" + 0.038*\"boy\" + 0.032*\"run\" + 0.029*\"say\" + '\n",
            "  '0.021*\"insult\" + 0.016*\"guy\" + 0.014*\"throw\" + 0.013*\"thing\" + '\n",
            "  '0.012*\"tell\"'),\n",
            " (1,\n",
            "  '0.024*\"video\" + 0.019*\"get\" + 0.019*\"make\" + 0.018*\"feminist\" + '\n",
            "  '0.015*\"always\" + 0.014*\"go\" + 0.014*\"people\" + 0.011*\"stop\" + '\n",
            "  '0.010*\"commercial\" + 0.009*\"stupid\"'),\n",
            " (2,\n",
            "  '0.055*\"man\" + 0.054*\"woman\" + 0.015*\"strong\" + 0.013*\"male\" + '\n",
            "  '0.013*\"female\" + 0.009*\"gender\" + 0.008*\"well\" + 0.007*\"fact\" + '\n",
            "  '0.006*\"weak\" + 0.006*\"physically\"')]\n",
            "\n",
            "Coherence Score:  0.5237059318823737\n"
          ],
          "name": "stdout"
        }
      ]
    }
  ]
}